{
 "cells": [
  {
   "cell_type": "markdown",
   "metadata": {},
   "source": [
    "# Random Forest\n",
    "Random Forest models are an ensemble learning method that tend to perform well because they build a series or ensemble of descision trees based on a random selection of features. This helps improve the accuracy of the overall model by leveraging the variety of results of those trees. Random Forests are great when trying the goal in theory is to minimize overfitting.\n",
    "In practice the model was not overfit however the accuracy was only marginally better than a coinflip on both my train and test set. I do think with some more optimization this model could perform well on my data. However this would be very expensive to compute. This model took a very long time to fit and might be better served processed in a cloud computing situation. My gridsearch indicated to me that a maxdf of .95 would be optimal. If I chose to run this model again in the cloud I would definintely try adjusting the min-df because this model determined that not having one was better than the values I passed. In hindsight I may have set tried a range between 10-20%. I would have also liked to try a range between 100-500 for my n_estimators since my result was the max value in my parameter grid."
   ]
  },
  {
   "cell_type": "code",
   "execution_count": 2,
   "metadata": {},
   "outputs": [
    {
     "name": "stderr",
     "output_type": "stream",
     "text": [
      "/Applications/anaconda3/lib/python3.6/site-packages/sklearn/cross_validation.py:41: DeprecationWarning: This module was deprecated in version 0.18 in favor of the model_selection module into which all the refactored classes and functions are moved. Also note that the interface of the new CV iterators are different from that of this module. This module will be removed in 0.20.\n",
      "  \"This module will be removed in 0.20.\", DeprecationWarning)\n",
      "/Applications/anaconda3/lib/python3.6/site-packages/sklearn/grid_search.py:42: DeprecationWarning: This module was deprecated in version 0.18 in favor of the model_selection module into which all the refactored classes and functions are moved. This module will be removed in 0.20.\n",
      "  DeprecationWarning)\n"
     ]
    }
   ],
   "source": [
    "import pandas as pd\n",
    "import numpy as np\n",
    "from sklearn.feature_extraction.text import TfidfVectorizer\n",
    "from sklearn.model_selection import train_test_split\n",
    "from sklearn.ensemble import RandomForestClassifier\n",
    "from sklearn.pipeline import Pipeline\n",
    "from sklearn.grid_search import GridSearchCV\n",
    "from sklearn.metrics import confusion_matrix\n",
    "import re\n",
    "import pickle\n",
    "import matplotlib.pyplot as plt"
   ]
  },
  {
   "cell_type": "markdown",
   "metadata": {},
   "source": [
    "# Loading data"
   ]
  },
  {
   "cell_type": "code",
   "execution_count": 3,
   "metadata": {},
   "outputs": [],
   "source": [
    "combined = pd.read_pickle('../assets/combined.pkl')\n"
   ]
  },
  {
   "cell_type": "code",
   "execution_count": 4,
   "metadata": {},
   "outputs": [],
   "source": [
    "X_train = pd.read_pickle('../assets/X_train.pkl')\n",
    "X_test = pd.read_pickle('../assets/X_test.pkl')\n",
    "y_train = pd.read_pickle('../assets/y_train.pkl')\n",
    "y_test = pd.read_pickle('../assets/y_test.pkl')"
   ]
  },
  {
   "cell_type": "markdown",
   "metadata": {},
   "source": [
    "# Setting up the pipeline"
   ]
  },
  {
   "cell_type": "code",
   "execution_count": 3,
   "metadata": {},
   "outputs": [],
   "source": [
    "pipe = Pipeline([\n",
    "    ('tfidf', TfidfVectorizer(stop_words='english')),\n",
    "    ('rfc',RandomForestClassifier(n_jobs=3,max_depth=53))\n",
    "])\n",
    "    "
   ]
  },
  {
   "cell_type": "markdown",
   "metadata": {},
   "source": [
    "# Setting up the parameter grid"
   ]
  },
  {
   "cell_type": "code",
   "execution_count": 6,
   "metadata": {},
   "outputs": [],
   "source": [
    "param_grid =  {\n",
    "    'tfidf__min_df': np.arange(1,3,2),\n",
    "    'tfidf__max_df': [0.9, 0.95],\n",
    "    'rfc__n_estimators':[50,100],\n",
    "    'rfc__min_samples_leaf': [1,2]\n",
    "}"
   ]
  },
  {
   "cell_type": "markdown",
   "metadata": {},
   "source": [
    "# Running a gridsearch"
   ]
  },
  {
   "cell_type": "code",
   "execution_count": 7,
   "metadata": {},
   "outputs": [],
   "source": [
    "gs = GridSearchCV(pipe,param_grid=param_grid, verbose=1)"
   ]
  },
  {
   "cell_type": "markdown",
   "metadata": {},
   "source": [
    "# Fitting the model"
   ]
  },
  {
   "cell_type": "code",
   "execution_count": 8,
   "metadata": {},
   "outputs": [
    {
     "name": "stdout",
     "output_type": "stream",
     "text": [
      "Fitting 3 folds for each of 8 candidates, totalling 24 fits\n"
     ]
    },
    {
     "name": "stderr",
     "output_type": "stream",
     "text": [
      "[Parallel(n_jobs=1)]: Done  24 out of  24 | elapsed:  7.2min finished\n"
     ]
    },
    {
     "data": {
      "text/plain": [
       "GridSearchCV(cv=None, error_score='raise',\n",
       "       estimator=Pipeline(memory=None,\n",
       "     steps=[('tfidf', TfidfVectorizer(analyzer='word', binary=False, decode_error='strict',\n",
       "        dtype=<class 'numpy.int64'>, encoding='utf-8', input='content',\n",
       "        lowercase=True, max_df=1.0, max_features=None, min_df=1,\n",
       "        ngram_range=(1, 1), norm='l2', preprocessor=None, smooth_idf=True,\n",
       " ...n_jobs=3,\n",
       "            oob_score=False, random_state=None, verbose=0,\n",
       "            warm_start=False))]),\n",
       "       fit_params={}, iid=True, n_jobs=1,\n",
       "       param_grid={'tfidf__min_df': array([1]), 'tfidf__max_df': [0.9, 0.95], 'rfc__n_estimators': [50, 100], 'rfc__min_samples_leaf': [1, 2]},\n",
       "       pre_dispatch='2*n_jobs', refit=True, scoring=None, verbose=1)"
      ]
     },
     "execution_count": 8,
     "metadata": {},
     "output_type": "execute_result"
    }
   ],
   "source": [
    "gs.fit(X_train,y_train)"
   ]
  },
  {
   "cell_type": "markdown",
   "metadata": {},
   "source": [
    "# Scoring the model\n",
    "This data had decent performance. The amount of time it takes to fit was the only thing the kept me from tuning this model further."
   ]
  },
  {
   "cell_type": "code",
   "execution_count": 9,
   "metadata": {},
   "outputs": [
    {
     "data": {
      "text/plain": [
       "0.6857056855141356"
      ]
     },
     "execution_count": 9,
     "metadata": {},
     "output_type": "execute_result"
    }
   ],
   "source": [
    "gs.score(X_train,y_train)"
   ]
  },
  {
   "cell_type": "code",
   "execution_count": 10,
   "metadata": {},
   "outputs": [
    {
     "data": {
      "text/plain": [
       "0.6586372475098218"
      ]
     },
     "execution_count": 10,
     "metadata": {},
     "output_type": "execute_result"
    }
   ],
   "source": [
    "gs.score(X_test,y_test)"
   ]
  },
  {
   "cell_type": "code",
   "execution_count": null,
   "metadata": {},
   "outputs": [],
   "source": [
    "combined['subreddit'].value_counts()/combined.shape[0]"
   ]
  },
  {
   "cell_type": "markdown",
   "metadata": {},
   "source": [
    "# Best estimators\n"
   ]
  },
  {
   "cell_type": "code",
   "execution_count": 6,
   "metadata": {},
   "outputs": [],
   "source": [
    "features = gs.best_estimator_.steps[0][1].get_feature_names()"
   ]
  },
  {
   "cell_type": "code",
   "execution_count": 7,
   "metadata": {},
   "outputs": [],
   "source": [
    "importance = gs.best_estimator_.steps[1][1].feature_importances_"
   ]
  },
  {
   "cell_type": "code",
   "execution_count": 8,
   "metadata": {},
   "outputs": [],
   "source": [
    "important_features = list(zip(importance,features))"
   ]
  },
  {
   "cell_type": "code",
   "execution_count": 9,
   "metadata": {},
   "outputs": [],
   "source": [
    "important_features.sort(reverse=True)"
   ]
  },
  {
   "cell_type": "markdown",
   "metadata": {},
   "source": [
    "# Exploring top features\n",
    "Below I examine some of the important features. Although the interpretations aren't as straight forward as a linear model. It does give a me pulse for words and relationships worth exploring. The word libertarian in all it's forms comes up quite a few times. Often self referentially in r/libertarian and in a critcal way in r/LSC Other interesting words to note are Trump,speech, gun,\n",
    "rights,working,capitalism, government rich a freedom. All of these words are not surprising to me as they center around different libertarian philosophies like personal freedom, property and gun rights and rule of law. Identifying important keywords for reddit subs can help the sites moderators improve the content on the boards by giving them a a clue into popular areas of discourse. This model could also help in targeted marketing by slyly embedding important keywords into their content in order to potentially increase engaement."
   ]
  },
  {
   "cell_type": "code",
   "execution_count": 11,
   "metadata": {},
   "outputs": [
    {
     "data": {
      "text/plain": [
       "[(0.035843533652117315, 'libertarian'),\n",
       " (0.02245607732244579, 'government'),\n",
       " (0.019337309513915057, 'libertarians'),\n",
       " (0.01437608923886426, 'trump'),\n",
       " (0.01261113443903594, 'capitalism'),\n",
       " (0.01051449965954342, 'work'),\n",
       " (0.009577902309721059, 'libertarianism'),\n",
       " (0.009396957071501535, 'speech'),\n",
       " (0.009065005928113129, 'rights'),\n",
       " (0.008122084556353272, 'gun'),\n",
       " (0.008021595035872076, 'rich'),\n",
       " (0.007534477370745697, 'stupid'),\n",
       " (0.007516658547972291, 'freedom'),\n",
       " (0.007352504657517883, 'job'),\n",
       " (0.006925330778571558, 'working'),\n",
       " (0.006322979517875078, 'liberty'),\n",
       " (0.006077281604461981, 'workers'),\n",
       " (0.005938518588745745, 'law'),\n",
       " (0.005727109834183893, 'property'),\n",
       " (0.005692148593999743, 'state')]"
      ]
     },
     "execution_count": 11,
     "metadata": {},
     "output_type": "execute_result"
    }
   ],
   "source": [
    "important_features[:20]"
   ]
  },
  {
   "cell_type": "code",
   "execution_count": 12,
   "metadata": {},
   "outputs": [],
   "source": [
    "df = {\n",
    "    \"features\":features,\n",
    "    \"importance\":importance,\n",
    "   \n",
    "}\n",
    "df = pd.DataFrame(df)"
   ]
  },
  {
   "cell_type": "code",
   "execution_count": 13,
   "metadata": {},
   "outputs": [
    {
     "data": {
      "text/html": [
       "<div>\n",
       "<style scoped>\n",
       "    .dataframe tbody tr th:only-of-type {\n",
       "        vertical-align: middle;\n",
       "    }\n",
       "\n",
       "    .dataframe tbody tr th {\n",
       "        vertical-align: top;\n",
       "    }\n",
       "\n",
       "    .dataframe thead th {\n",
       "        text-align: right;\n",
       "    }\n",
       "</style>\n",
       "<table border=\"1\" class=\"dataframe\">\n",
       "  <thead>\n",
       "    <tr style=\"text-align: right;\">\n",
       "      <th></th>\n",
       "      <th>features</th>\n",
       "      <th>importance</th>\n",
       "    </tr>\n",
       "  </thead>\n",
       "  <tbody>\n",
       "    <tr>\n",
       "      <th>10100</th>\n",
       "      <td>capitalism</td>\n",
       "      <td>0.012611</td>\n",
       "    </tr>\n",
       "    <tr>\n",
       "      <th>26590</th>\n",
       "      <td>freedom</td>\n",
       "      <td>0.007517</td>\n",
       "    </tr>\n",
       "    <tr>\n",
       "      <th>28911</th>\n",
       "      <td>government</td>\n",
       "      <td>0.022456</td>\n",
       "    </tr>\n",
       "    <tr>\n",
       "      <th>29674</th>\n",
       "      <td>gun</td>\n",
       "      <td>0.008122</td>\n",
       "    </tr>\n",
       "    <tr>\n",
       "      <th>36443</th>\n",
       "      <td>job</td>\n",
       "      <td>0.007353</td>\n",
       "    </tr>\n",
       "    <tr>\n",
       "      <th>39238</th>\n",
       "      <td>libertarian</td>\n",
       "      <td>0.035844</td>\n",
       "    </tr>\n",
       "    <tr>\n",
       "      <th>39254</th>\n",
       "      <td>libertarianism</td>\n",
       "      <td>0.009578</td>\n",
       "    </tr>\n",
       "    <tr>\n",
       "      <th>39264</th>\n",
       "      <td>libertarians</td>\n",
       "      <td>0.019337</td>\n",
       "    </tr>\n",
       "    <tr>\n",
       "      <th>58070</th>\n",
       "      <td>rich</td>\n",
       "      <td>0.008022</td>\n",
       "    </tr>\n",
       "    <tr>\n",
       "      <th>58193</th>\n",
       "      <td>rights</td>\n",
       "      <td>0.009065</td>\n",
       "    </tr>\n",
       "    <tr>\n",
       "      <th>63920</th>\n",
       "      <td>speech</td>\n",
       "      <td>0.009397</td>\n",
       "    </tr>\n",
       "    <tr>\n",
       "      <th>65606</th>\n",
       "      <td>stupid</td>\n",
       "      <td>0.007534</td>\n",
       "    </tr>\n",
       "    <tr>\n",
       "      <th>70266</th>\n",
       "      <td>trump</td>\n",
       "      <td>0.014376</td>\n",
       "    </tr>\n",
       "    <tr>\n",
       "      <th>75909</th>\n",
       "      <td>work</td>\n",
       "      <td>0.010514</td>\n",
       "    </tr>\n",
       "  </tbody>\n",
       "</table>\n",
       "</div>"
      ],
      "text/plain": [
       "             features  importance\n",
       "10100      capitalism    0.012611\n",
       "26590         freedom    0.007517\n",
       "28911      government    0.022456\n",
       "29674             gun    0.008122\n",
       "36443             job    0.007353\n",
       "39238     libertarian    0.035844\n",
       "39254  libertarianism    0.009578\n",
       "39264    libertarians    0.019337\n",
       "58070            rich    0.008022\n",
       "58193          rights    0.009065\n",
       "63920          speech    0.009397\n",
       "65606          stupid    0.007534\n",
       "70266           trump    0.014376\n",
       "75909            work    0.010514"
      ]
     },
     "execution_count": 13,
     "metadata": {},
     "output_type": "execute_result"
    }
   ],
   "source": [
    "df[df['importance']>.007].head(20)"
   ]
  },
  {
   "cell_type": "code",
   "execution_count": 14,
   "metadata": {},
   "outputs": [],
   "source": [
    "X_train_preds = gs.predict(X_train)"
   ]
  },
  {
   "cell_type": "code",
   "execution_count": 15,
   "metadata": {},
   "outputs": [],
   "source": [
    "preds = pd.DataFrame({\n",
    "    \"preds\":X_train_preds,\n",
    "    \"features\":X_train,\n",
    "    \"truth\":y_train\n",
    "})"
   ]
  },
  {
   "cell_type": "code",
   "execution_count": 16,
   "metadata": {},
   "outputs": [
    {
     "data": {
      "text/html": [
       "<div>\n",
       "<style scoped>\n",
       "    .dataframe tbody tr th:only-of-type {\n",
       "        vertical-align: middle;\n",
       "    }\n",
       "\n",
       "    .dataframe tbody tr th {\n",
       "        vertical-align: top;\n",
       "    }\n",
       "\n",
       "    .dataframe thead th {\n",
       "        text-align: right;\n",
       "    }\n",
       "</style>\n",
       "<table border=\"1\" class=\"dataframe\">\n",
       "  <thead>\n",
       "    <tr style=\"text-align: right;\">\n",
       "      <th></th>\n",
       "      <th>preds</th>\n",
       "      <th>features</th>\n",
       "      <th>truth</th>\n",
       "    </tr>\n",
       "  </thead>\n",
       "  <tbody>\n",
       "    <tr>\n",
       "      <th>30147</th>\n",
       "      <td>LateStageCapitalism</td>\n",
       "      <td>all white meat. babies of colour are kept in a...</td>\n",
       "      <td>LateStageCapitalism</td>\n",
       "    </tr>\n",
       "    <tr>\n",
       "      <th>57685</th>\n",
       "      <td>Libertarian</td>\n",
       "      <td>it was illegal for people of other religions t...</td>\n",
       "      <td>Libertarian</td>\n",
       "    </tr>\n",
       "    <tr>\n",
       "      <th>29468</th>\n",
       "      <td>Libertarian</td>\n",
       "      <td>the usa is already spending way more per capit...</td>\n",
       "      <td>LateStageCapitalism</td>\n",
       "    </tr>\n",
       "    <tr>\n",
       "      <th>110065</th>\n",
       "      <td>Libertarian</td>\n",
       "      <td>overall, yes. the genocide of the natives was ...</td>\n",
       "      <td>LateStageCapitalism</td>\n",
       "    </tr>\n",
       "    <tr>\n",
       "      <th>120518</th>\n",
       "      <td>Libertarian</td>\n",
       "      <td>&amp;; this is basic burden of proof       lol    ...</td>\n",
       "      <td>Libertarian</td>\n",
       "    </tr>\n",
       "  </tbody>\n",
       "</table>\n",
       "</div>"
      ],
      "text/plain": [
       "                      preds  \\\n",
       "30147   LateStageCapitalism   \n",
       "57685           Libertarian   \n",
       "29468           Libertarian   \n",
       "110065          Libertarian   \n",
       "120518          Libertarian   \n",
       "\n",
       "                                                 features                truth  \n",
       "30147   all white meat. babies of colour are kept in a...  LateStageCapitalism  \n",
       "57685   it was illegal for people of other religions t...          Libertarian  \n",
       "29468   the usa is already spending way more per capit...  LateStageCapitalism  \n",
       "110065  overall, yes. the genocide of the natives was ...  LateStageCapitalism  \n",
       "120518  &; this is basic burden of proof       lol    ...          Libertarian  "
      ]
     },
     "execution_count": 16,
     "metadata": {},
     "output_type": "execute_result"
    }
   ],
   "source": [
    "preds.head()"
   ]
  },
  {
   "cell_type": "markdown",
   "metadata": {},
   "source": [
    "# Exploring misclassified posts\n",
    "Looking through some of these posts is a bit revealing. I notice a small trend in my model misclassifying phrases with swear words in them as coming r/Libertarian when infact tehey. In a future iteration I might trying fitting a model with swear words included as stop words to see how it effects the overall accuracy. \n"
   ]
  },
  {
   "cell_type": "code",
   "execution_count": 23,
   "metadata": {},
   "outputs": [
    {
     "data": {
      "text/html": [
       "<div>\n",
       "<style scoped>\n",
       "    .dataframe tbody tr th:only-of-type {\n",
       "        vertical-align: middle;\n",
       "    }\n",
       "\n",
       "    .dataframe tbody tr th {\n",
       "        vertical-align: top;\n",
       "    }\n",
       "\n",
       "    .dataframe thead th {\n",
       "        text-align: right;\n",
       "    }\n",
       "</style>\n",
       "<table border=\"1\" class=\"dataframe\">\n",
       "  <thead>\n",
       "    <tr style=\"text-align: right;\">\n",
       "      <th></th>\n",
       "      <th>preds</th>\n",
       "      <th>features</th>\n",
       "      <th>truth</th>\n",
       "    </tr>\n",
       "  </thead>\n",
       "  <tbody>\n",
       "    <tr>\n",
       "      <th>29468</th>\n",
       "      <td>Libertarian</td>\n",
       "      <td>the usa is already spending way more per capit...</td>\n",
       "      <td>LateStageCapitalism</td>\n",
       "    </tr>\n",
       "    <tr>\n",
       "      <th>110065</th>\n",
       "      <td>Libertarian</td>\n",
       "      <td>overall, yes. the genocide of the natives was ...</td>\n",
       "      <td>LateStageCapitalism</td>\n",
       "    </tr>\n",
       "    <tr>\n",
       "      <th>108695</th>\n",
       "      <td>Libertarian</td>\n",
       "      <td>so just...fuck disabled people, i guess?</td>\n",
       "      <td>LateStageCapitalism</td>\n",
       "    </tr>\n",
       "    <tr>\n",
       "      <th>56582</th>\n",
       "      <td>Libertarian</td>\n",
       "      <td>you literally just refrased my own insult</td>\n",
       "      <td>LateStageCapitalism</td>\n",
       "    </tr>\n",
       "    <tr>\n",
       "      <th>194812</th>\n",
       "      <td>Libertarian</td>\n",
       "      <td>tribalism.</td>\n",
       "      <td>LateStageCapitalism</td>\n",
       "    </tr>\n",
       "    <tr>\n",
       "      <th>6383</th>\n",
       "      <td>LateStageCapitalism</td>\n",
       "      <td>i guess fuck white kids then? that's your argu...</td>\n",
       "      <td>Libertarian</td>\n",
       "    </tr>\n",
       "    <tr>\n",
       "      <th>151147</th>\n",
       "      <td>LateStageCapitalism</td>\n",
       "      <td>lol you're simply fucked in the head if you th...</td>\n",
       "      <td>Libertarian</td>\n",
       "    </tr>\n",
       "    <tr>\n",
       "      <th>84395</th>\n",
       "      <td>Libertarian</td>\n",
       "      <td>the article you linked showed me that f &amp;lt;-&amp;...</td>\n",
       "      <td>LateStageCapitalism</td>\n",
       "    </tr>\n",
       "    <tr>\n",
       "      <th>106849</th>\n",
       "      <td>Libertarian</td>\n",
       "      <td>it pays in image boosting/advertisement, and a...</td>\n",
       "      <td>LateStageCapitalism</td>\n",
       "    </tr>\n",
       "    <tr>\n",
       "      <th>105209</th>\n",
       "      <td>Libertarian</td>\n",
       "      <td>you have to laugh at some of these rankings an...</td>\n",
       "      <td>LateStageCapitalism</td>\n",
       "    </tr>\n",
       "    <tr>\n",
       "      <th>84772</th>\n",
       "      <td>Libertarian</td>\n",
       "      <td>good point.</td>\n",
       "      <td>LateStageCapitalism</td>\n",
       "    </tr>\n",
       "    <tr>\n",
       "      <th>20218</th>\n",
       "      <td>Libertarian</td>\n",
       "      <td>no trying to defend this dude but blaming him ...</td>\n",
       "      <td>LateStageCapitalism</td>\n",
       "    </tr>\n",
       "    <tr>\n",
       "      <th>164668</th>\n",
       "      <td>Libertarian</td>\n",
       "      <td>\"shifting resources to the less productive\". w...</td>\n",
       "      <td>LateStageCapitalism</td>\n",
       "    </tr>\n",
       "    <tr>\n",
       "      <th>45661</th>\n",
       "      <td>Libertarian</td>\n",
       "      <td>you wait as long as is appropriate. triage works.</td>\n",
       "      <td>LateStageCapitalism</td>\n",
       "    </tr>\n",
       "    <tr>\n",
       "      <th>12480</th>\n",
       "      <td>Libertarian</td>\n",
       "      <td>sounds like something a communist would say</td>\n",
       "      <td>LateStageCapitalism</td>\n",
       "    </tr>\n",
       "    <tr>\n",
       "      <th>195414</th>\n",
       "      <td>Libertarian</td>\n",
       "      <td>bro there’s a difference between model and cas...</td>\n",
       "      <td>LateStageCapitalism</td>\n",
       "    </tr>\n",
       "    <tr>\n",
       "      <th>92698</th>\n",
       "      <td>Libertarian</td>\n",
       "      <td>tell her, raise a revolutionary</td>\n",
       "      <td>LateStageCapitalism</td>\n",
       "    </tr>\n",
       "    <tr>\n",
       "      <th>146271</th>\n",
       "      <td>Libertarian</td>\n",
       "      <td>yeah, that's a dick fucking move to the artist...</td>\n",
       "      <td>LateStageCapitalism</td>\n",
       "    </tr>\n",
       "    <tr>\n",
       "      <th>183841</th>\n",
       "      <td>Libertarian</td>\n",
       "      <td>you would be an expert on shitposting, so i wi...</td>\n",
       "      <td>LateStageCapitalism</td>\n",
       "    </tr>\n",
       "    <tr>\n",
       "      <th>12507</th>\n",
       "      <td>Libertarian</td>\n",
       "      <td>then they'd just refuse the anesthesia or turn...</td>\n",
       "      <td>LateStageCapitalism</td>\n",
       "    </tr>\n",
       "    <tr>\n",
       "      <th>21813</th>\n",
       "      <td>Libertarian</td>\n",
       "      <td>hmm, sounds like they add together an imperial...</td>\n",
       "      <td>LateStageCapitalism</td>\n",
       "    </tr>\n",
       "    <tr>\n",
       "      <th>188887</th>\n",
       "      <td>LateStageCapitalism</td>\n",
       "      <td>late stage capitalism doesn’t know how to logic</td>\n",
       "      <td>Libertarian</td>\n",
       "    </tr>\n",
       "    <tr>\n",
       "      <th>68613</th>\n",
       "      <td>LateStageCapitalism</td>\n",
       "      <td>that fork could be trickle down economics.</td>\n",
       "      <td>Libertarian</td>\n",
       "    </tr>\n",
       "    <tr>\n",
       "      <th>154193</th>\n",
       "      <td>Libertarian</td>\n",
       "      <td>&amp;; how to persuade your husband to open your m...</td>\n",
       "      <td>LateStageCapitalism</td>\n",
       "    </tr>\n",
       "    <tr>\n",
       "      <th>96917</th>\n",
       "      <td>Libertarian</td>\n",
       "      <td>i literally put nothing on you.</td>\n",
       "      <td>LateStageCapitalism</td>\n",
       "    </tr>\n",
       "    <tr>\n",
       "      <th>142296</th>\n",
       "      <td>Libertarian</td>\n",
       "      <td>hahahaha houses and medicine hahahah human rig...</td>\n",
       "      <td>LateStageCapitalism</td>\n",
       "    </tr>\n",
       "    <tr>\n",
       "      <th>8938</th>\n",
       "      <td>Libertarian</td>\n",
       "      <td>but not really, right? because noone is beatin...</td>\n",
       "      <td>LateStageCapitalism</td>\n",
       "    </tr>\n",
       "    <tr>\n",
       "      <th>192331</th>\n",
       "      <td>Libertarian</td>\n",
       "      <td>don't worry, the free market is the best way t...</td>\n",
       "      <td>LateStageCapitalism</td>\n",
       "    </tr>\n",
       "    <tr>\n",
       "      <th>89064</th>\n",
       "      <td>Libertarian</td>\n",
       "      <td>look around</td>\n",
       "      <td>LateStageCapitalism</td>\n",
       "    </tr>\n",
       "    <tr>\n",
       "      <th>59809</th>\n",
       "      <td>Libertarian</td>\n",
       "      <td>i'd imagine a power engineer at a nuclear plan...</td>\n",
       "      <td>LateStageCapitalism</td>\n",
       "    </tr>\n",
       "    <tr>\n",
       "      <th>...</th>\n",
       "      <td>...</td>\n",
       "      <td>...</td>\n",
       "      <td>...</td>\n",
       "    </tr>\n",
       "    <tr>\n",
       "      <th>165111</th>\n",
       "      <td>LateStageCapitalism</td>\n",
       "      <td>no its georgism and fundamentally a capitalist...</td>\n",
       "      <td>Libertarian</td>\n",
       "    </tr>\n",
       "    <tr>\n",
       "      <th>204495</th>\n",
       "      <td>Libertarian</td>\n",
       "      <td>please tell me your friend doesn't have a phd....</td>\n",
       "      <td>LateStageCapitalism</td>\n",
       "    </tr>\n",
       "    <tr>\n",
       "      <th>83840</th>\n",
       "      <td>Libertarian</td>\n",
       "      <td>one thing i'd recommend against- confusing the...</td>\n",
       "      <td>LateStageCapitalism</td>\n",
       "    </tr>\n",
       "    <tr>\n",
       "      <th>159071</th>\n",
       "      <td>LateStageCapitalism</td>\n",
       "      <td>unfortunately america has shit support for men...</td>\n",
       "      <td>Libertarian</td>\n",
       "    </tr>\n",
       "    <tr>\n",
       "      <th>171796</th>\n",
       "      <td>Libertarian</td>\n",
       "      <td>regulation is exactly what makes healthcare so...</td>\n",
       "      <td>LateStageCapitalism</td>\n",
       "    </tr>\n",
       "    <tr>\n",
       "      <th>180727</th>\n",
       "      <td>Libertarian</td>\n",
       "      <td>steal everything that's not nailed down when h...</td>\n",
       "      <td>LateStageCapitalism</td>\n",
       "    </tr>\n",
       "    <tr>\n",
       "      <th>22719</th>\n",
       "      <td>Libertarian</td>\n",
       "      <td>you guys should check out the confession tapes...</td>\n",
       "      <td>LateStageCapitalism</td>\n",
       "    </tr>\n",
       "    <tr>\n",
       "      <th>42161</th>\n",
       "      <td>Libertarian</td>\n",
       "      <td>you misspelled complicit.</td>\n",
       "      <td>LateStageCapitalism</td>\n",
       "    </tr>\n",
       "    <tr>\n",
       "      <th>20751</th>\n",
       "      <td>Libertarian</td>\n",
       "      <td>i assume so? you gave /u/carnedelpie a network...</td>\n",
       "      <td>LateStageCapitalism</td>\n",
       "    </tr>\n",
       "    <tr>\n",
       "      <th>141516</th>\n",
       "      <td>Libertarian</td>\n",
       "      <td>i don't think it's possible to construe that i...</td>\n",
       "      <td>LateStageCapitalism</td>\n",
       "    </tr>\n",
       "    <tr>\n",
       "      <th>36158</th>\n",
       "      <td>Libertarian</td>\n",
       "      <td>i didn't know about that one. i'll give it a t...</td>\n",
       "      <td>LateStageCapitalism</td>\n",
       "    </tr>\n",
       "    <tr>\n",
       "      <th>42333</th>\n",
       "      <td>Libertarian</td>\n",
       "      <td>property is theft. banned.</td>\n",
       "      <td>LateStageCapitalism</td>\n",
       "    </tr>\n",
       "    <tr>\n",
       "      <th>167812</th>\n",
       "      <td>Libertarian</td>\n",
       "      <td>anyone who has anything to do with a vuvuzela ...</td>\n",
       "      <td>LateStageCapitalism</td>\n",
       "    </tr>\n",
       "    <tr>\n",
       "      <th>88551</th>\n",
       "      <td>Libertarian</td>\n",
       "      <td>thanks, i’m on mobile so don’t see what you se...</td>\n",
       "      <td>LateStageCapitalism</td>\n",
       "    </tr>\n",
       "    <tr>\n",
       "      <th>11196</th>\n",
       "      <td>Libertarian</td>\n",
       "      <td>you are missing the point, a banker is fundame...</td>\n",
       "      <td>LateStageCapitalism</td>\n",
       "    </tr>\n",
       "    <tr>\n",
       "      <th>4096</th>\n",
       "      <td>Libertarian</td>\n",
       "      <td>when there is no one left, there is no more hu...</td>\n",
       "      <td>LateStageCapitalism</td>\n",
       "    </tr>\n",
       "    <tr>\n",
       "      <th>146362</th>\n",
       "      <td>LateStageCapitalism</td>\n",
       "      <td>i actually really enjoyed the book \"persepolis...</td>\n",
       "      <td>Libertarian</td>\n",
       "    </tr>\n",
       "    <tr>\n",
       "      <th>19934</th>\n",
       "      <td>Libertarian</td>\n",
       "      <td>why this sudden respect for everyone once they...</td>\n",
       "      <td>LateStageCapitalism</td>\n",
       "    </tr>\n",
       "    <tr>\n",
       "      <th>67141</th>\n",
       "      <td>Libertarian</td>\n",
       "      <td>we are talking on reddit and there are ideas t...</td>\n",
       "      <td>LateStageCapitalism</td>\n",
       "    </tr>\n",
       "    <tr>\n",
       "      <th>71978</th>\n",
       "      <td>Libertarian</td>\n",
       "      <td>and women in hippy dresses are going to make i...</td>\n",
       "      <td>LateStageCapitalism</td>\n",
       "    </tr>\n",
       "    <tr>\n",
       "      <th>57715</th>\n",
       "      <td>LateStageCapitalism</td>\n",
       "      <td>my position was that social mobility is extrem...</td>\n",
       "      <td>Libertarian</td>\n",
       "    </tr>\n",
       "    <tr>\n",
       "      <th>141151</th>\n",
       "      <td>Libertarian</td>\n",
       "      <td>why is a functioning society so dystopian to c...</td>\n",
       "      <td>LateStageCapitalism</td>\n",
       "    </tr>\n",
       "    <tr>\n",
       "      <th>177308</th>\n",
       "      <td>Libertarian</td>\n",
       "      <td>if i have a right to life, i should have a rig...</td>\n",
       "      <td>LateStageCapitalism</td>\n",
       "    </tr>\n",
       "    <tr>\n",
       "      <th>200712</th>\n",
       "      <td>Libertarian</td>\n",
       "      <td>at least they get carseats?</td>\n",
       "      <td>LateStageCapitalism</td>\n",
       "    </tr>\n",
       "    <tr>\n",
       "      <th>136819</th>\n",
       "      <td>Libertarian</td>\n",
       "      <td>is that the new space force i keep hearing about?</td>\n",
       "      <td>LateStageCapitalism</td>\n",
       "    </tr>\n",
       "    <tr>\n",
       "      <th>29579</th>\n",
       "      <td>Libertarian</td>\n",
       "      <td>edgar, your skin's hanging off your bones.</td>\n",
       "      <td>LateStageCapitalism</td>\n",
       "    </tr>\n",
       "    <tr>\n",
       "      <th>157570</th>\n",
       "      <td>Libertarian</td>\n",
       "      <td>thanks to [dan nolan]( on twitter for this find.</td>\n",
       "      <td>LateStageCapitalism</td>\n",
       "    </tr>\n",
       "    <tr>\n",
       "      <th>1522</th>\n",
       "      <td>Libertarian</td>\n",
       "      <td>so, your comment convinced me to [look it up](...</td>\n",
       "      <td>LateStageCapitalism</td>\n",
       "    </tr>\n",
       "    <tr>\n",
       "      <th>33889</th>\n",
       "      <td>Libertarian</td>\n",
       "      <td>gross</td>\n",
       "      <td>LateStageCapitalism</td>\n",
       "    </tr>\n",
       "    <tr>\n",
       "      <th>24212</th>\n",
       "      <td>Libertarian</td>\n",
       "      <td>i thought it was supposed to be a grammar nazi...</td>\n",
       "      <td>LateStageCapitalism</td>\n",
       "    </tr>\n",
       "  </tbody>\n",
       "</table>\n",
       "<p>100 rows × 3 columns</p>\n",
       "</div>"
      ],
      "text/plain": [
       "                      preds  \\\n",
       "29468           Libertarian   \n",
       "110065          Libertarian   \n",
       "108695          Libertarian   \n",
       "56582           Libertarian   \n",
       "194812          Libertarian   \n",
       "6383    LateStageCapitalism   \n",
       "151147  LateStageCapitalism   \n",
       "84395           Libertarian   \n",
       "106849          Libertarian   \n",
       "105209          Libertarian   \n",
       "84772           Libertarian   \n",
       "20218           Libertarian   \n",
       "164668          Libertarian   \n",
       "45661           Libertarian   \n",
       "12480           Libertarian   \n",
       "195414          Libertarian   \n",
       "92698           Libertarian   \n",
       "146271          Libertarian   \n",
       "183841          Libertarian   \n",
       "12507           Libertarian   \n",
       "21813           Libertarian   \n",
       "188887  LateStageCapitalism   \n",
       "68613   LateStageCapitalism   \n",
       "154193          Libertarian   \n",
       "96917           Libertarian   \n",
       "142296          Libertarian   \n",
       "8938            Libertarian   \n",
       "192331          Libertarian   \n",
       "89064           Libertarian   \n",
       "59809           Libertarian   \n",
       "...                     ...   \n",
       "165111  LateStageCapitalism   \n",
       "204495          Libertarian   \n",
       "83840           Libertarian   \n",
       "159071  LateStageCapitalism   \n",
       "171796          Libertarian   \n",
       "180727          Libertarian   \n",
       "22719           Libertarian   \n",
       "42161           Libertarian   \n",
       "20751           Libertarian   \n",
       "141516          Libertarian   \n",
       "36158           Libertarian   \n",
       "42333           Libertarian   \n",
       "167812          Libertarian   \n",
       "88551           Libertarian   \n",
       "11196           Libertarian   \n",
       "4096            Libertarian   \n",
       "146362  LateStageCapitalism   \n",
       "19934           Libertarian   \n",
       "67141           Libertarian   \n",
       "71978           Libertarian   \n",
       "57715   LateStageCapitalism   \n",
       "141151          Libertarian   \n",
       "177308          Libertarian   \n",
       "200712          Libertarian   \n",
       "136819          Libertarian   \n",
       "29579           Libertarian   \n",
       "157570          Libertarian   \n",
       "1522            Libertarian   \n",
       "33889           Libertarian   \n",
       "24212           Libertarian   \n",
       "\n",
       "                                                 features                truth  \n",
       "29468   the usa is already spending way more per capit...  LateStageCapitalism  \n",
       "110065  overall, yes. the genocide of the natives was ...  LateStageCapitalism  \n",
       "108695           so just...fuck disabled people, i guess?  LateStageCapitalism  \n",
       "56582           you literally just refrased my own insult  LateStageCapitalism  \n",
       "194812                                         tribalism.  LateStageCapitalism  \n",
       "6383    i guess fuck white kids then? that's your argu...          Libertarian  \n",
       "151147  lol you're simply fucked in the head if you th...          Libertarian  \n",
       "84395   the article you linked showed me that f &lt;-&...  LateStageCapitalism  \n",
       "106849  it pays in image boosting/advertisement, and a...  LateStageCapitalism  \n",
       "105209  you have to laugh at some of these rankings an...  LateStageCapitalism  \n",
       "84772                                         good point.  LateStageCapitalism  \n",
       "20218   no trying to defend this dude but blaming him ...  LateStageCapitalism  \n",
       "164668  \"shifting resources to the less productive\". w...  LateStageCapitalism  \n",
       "45661   you wait as long as is appropriate. triage works.  LateStageCapitalism  \n",
       "12480         sounds like something a communist would say  LateStageCapitalism  \n",
       "195414  bro there’s a difference between model and cas...  LateStageCapitalism  \n",
       "92698                     tell her, raise a revolutionary  LateStageCapitalism  \n",
       "146271  yeah, that's a dick fucking move to the artist...  LateStageCapitalism  \n",
       "183841  you would be an expert on shitposting, so i wi...  LateStageCapitalism  \n",
       "12507   then they'd just refuse the anesthesia or turn...  LateStageCapitalism  \n",
       "21813   hmm, sounds like they add together an imperial...  LateStageCapitalism  \n",
       "188887    late stage capitalism doesn’t know how to logic          Libertarian  \n",
       "68613          that fork could be trickle down economics.          Libertarian  \n",
       "154193  &; how to persuade your husband to open your m...  LateStageCapitalism  \n",
       "96917                    i literally put nothing on you.   LateStageCapitalism  \n",
       "142296  hahahaha houses and medicine hahahah human rig...  LateStageCapitalism  \n",
       "8938    but not really, right? because noone is beatin...  LateStageCapitalism  \n",
       "192331  don't worry, the free market is the best way t...  LateStageCapitalism  \n",
       "89064                                         look around  LateStageCapitalism  \n",
       "59809   i'd imagine a power engineer at a nuclear plan...  LateStageCapitalism  \n",
       "...                                                   ...                  ...  \n",
       "165111  no its georgism and fundamentally a capitalist...          Libertarian  \n",
       "204495  please tell me your friend doesn't have a phd....  LateStageCapitalism  \n",
       "83840   one thing i'd recommend against- confusing the...  LateStageCapitalism  \n",
       "159071  unfortunately america has shit support for men...          Libertarian  \n",
       "171796  regulation is exactly what makes healthcare so...  LateStageCapitalism  \n",
       "180727  steal everything that's not nailed down when h...  LateStageCapitalism  \n",
       "22719   you guys should check out the confession tapes...  LateStageCapitalism  \n",
       "42161                           you misspelled complicit.  LateStageCapitalism  \n",
       "20751   i assume so? you gave /u/carnedelpie a network...  LateStageCapitalism  \n",
       "141516  i don't think it's possible to construe that i...  LateStageCapitalism  \n",
       "36158   i didn't know about that one. i'll give it a t...  LateStageCapitalism  \n",
       "42333                          property is theft. banned.  LateStageCapitalism  \n",
       "167812  anyone who has anything to do with a vuvuzela ...  LateStageCapitalism  \n",
       "88551   thanks, i’m on mobile so don’t see what you se...  LateStageCapitalism  \n",
       "11196   you are missing the point, a banker is fundame...  LateStageCapitalism  \n",
       "4096    when there is no one left, there is no more hu...  LateStageCapitalism  \n",
       "146362  i actually really enjoyed the book \"persepolis...          Libertarian  \n",
       "19934   why this sudden respect for everyone once they...  LateStageCapitalism  \n",
       "67141   we are talking on reddit and there are ideas t...  LateStageCapitalism  \n",
       "71978   and women in hippy dresses are going to make i...  LateStageCapitalism  \n",
       "57715   my position was that social mobility is extrem...          Libertarian  \n",
       "141151  why is a functioning society so dystopian to c...  LateStageCapitalism  \n",
       "177308  if i have a right to life, i should have a rig...  LateStageCapitalism  \n",
       "200712                       at least they get carseats?   LateStageCapitalism  \n",
       "136819  is that the new space force i keep hearing about?  LateStageCapitalism  \n",
       "29579          edgar, your skin's hanging off your bones.  LateStageCapitalism  \n",
       "157570   thanks to [dan nolan]( on twitter for this find.  LateStageCapitalism  \n",
       "1522    so, your comment convinced me to [look it up](...  LateStageCapitalism  \n",
       "33889                                               gross  LateStageCapitalism  \n",
       "24212   i thought it was supposed to be a grammar nazi...  LateStageCapitalism  \n",
       "\n",
       "[100 rows x 3 columns]"
      ]
     },
     "execution_count": 23,
     "metadata": {},
     "output_type": "execute_result"
    }
   ],
   "source": [
    "preds[(preds['preds'] != preds['truth'])].head(100)\n"
   ]
  },
  {
   "cell_type": "markdown",
   "metadata": {},
   "source": [
    "# Misclassified  Predictions"
   ]
  },
  {
   "cell_type": "code",
   "execution_count": 24,
   "metadata": {},
   "outputs": [
    {
     "data": {
      "text/plain": [
       "80399"
      ]
     },
     "execution_count": 24,
     "metadata": {},
     "output_type": "execute_result"
    }
   ],
   "source": [
    "len(preds[(preds['preds'] != preds['truth'])])"
   ]
  },
  {
   "cell_type": "markdown",
   "metadata": {},
   "source": [
    "# Total Predictions\n",
    "This means I have a false postive rate of around 30%"
   ]
  },
  {
   "cell_type": "code",
   "execution_count": 26,
   "metadata": {},
   "outputs": [
    {
     "data": {
      "text/plain": [
       "255808"
      ]
     },
     "execution_count": 26,
     "metadata": {},
     "output_type": "execute_result"
    }
   ],
   "source": [
    "len(preds)"
   ]
  },
  {
   "cell_type": "markdown",
   "metadata": {},
   "source": [
    "# Best estimators"
   ]
  },
  {
   "cell_type": "code",
   "execution_count": 126,
   "metadata": {},
   "outputs": [
    {
     "data": {
      "text/plain": [
       "Pipeline(memory=None,\n",
       "     steps=[('tfidf', TfidfVectorizer(analyzer='word', binary=False, decode_error='strict',\n",
       "        dtype=<class 'numpy.int64'>, encoding='utf-8', input='content',\n",
       "        lowercase=True, max_df=0.95, max_features=None, min_df=1,\n",
       "        ngram_range=(1, 1), norm='l2', preprocessor=None, smooth_idf=True,\n",
       "...n_jobs=3,\n",
       "            oob_score=False, random_state=None, verbose=0,\n",
       "            warm_start=False))])"
      ]
     },
     "execution_count": 126,
     "metadata": {},
     "output_type": "execute_result"
    }
   ],
   "source": [
    "gs.best_estimator_"
   ]
  },
  {
   "cell_type": "code",
   "execution_count": 18,
   "metadata": {},
   "outputs": [
    {
     "data": {
      "text/plain": [
       "{'rfc__min_samples_leaf': 2,\n",
       " 'rfc__n_estimators': 100,\n",
       " 'tfidf__max_df': 0.95,\n",
       " 'tfidf__min_df': 1}"
      ]
     },
     "execution_count": 18,
     "metadata": {},
     "output_type": "execute_result"
    }
   ],
   "source": [
    "gs.best_params_"
   ]
  },
  {
   "cell_type": "code",
   "execution_count": 27,
   "metadata": {},
   "outputs": [
    {
     "data": {
      "text/plain": [
       "array(['LateStageCapitalism'], dtype='<U19')"
      ]
     },
     "execution_count": 27,
     "metadata": {},
     "output_type": "execute_result"
    }
   ],
   "source": [
    "gs.predict(['The jobs numbers were great, the numbers have been incredible.'])"
   ]
  },
  {
   "cell_type": "code",
   "execution_count": 34,
   "metadata": {},
   "outputs": [],
   "source": [
    "# with open('../assets/random_forest.pkl','wb+') as f:\n",
    "#     pickle.dump(gs,f)"
   ]
  },
  {
   "cell_type": "code",
   "execution_count": 5,
   "metadata": {},
   "outputs": [],
   "source": [
    "#  gs = pickle.load( open( \"../assets/random_forest.pkl\", \"rb\" ) )"
   ]
  },
  {
   "cell_type": "code",
   "execution_count": null,
   "metadata": {},
   "outputs": [],
   "source": []
  },
  {
   "cell_type": "code",
   "execution_count": null,
   "metadata": {},
   "outputs": [],
   "source": []
  },
  {
   "cell_type": "code",
   "execution_count": null,
   "metadata": {},
   "outputs": [],
   "source": []
  }
 ],
 "metadata": {
  "kernelspec": {
   "display_name": "Python 3",
   "language": "python",
   "name": "python3"
  },
  "language_info": {
   "codemirror_mode": {
    "name": "ipython",
    "version": 3
   },
   "file_extension": ".py",
   "mimetype": "text/x-python",
   "name": "python",
   "nbconvert_exporter": "python",
   "pygments_lexer": "ipython3",
   "version": "3.6.5"
  }
 },
 "nbformat": 4,
 "nbformat_minor": 2
}
