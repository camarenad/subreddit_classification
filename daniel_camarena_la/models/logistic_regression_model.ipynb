{
 "cells": [
  {
   "cell_type": "markdown",
   "metadata": {},
   "source": [
    "# Logistic Regression\n",
    "My Regression model has a high accuracy score but it also indicates some oversfitting. I spent some time tuning various parameters with only marginal gains in accuracy or reduction in overfitting. \n",
    "Initailly Logisitc regression seemed like a natrual choice for this project. It's a little more straightforward than a decsion tree based model and the output end's up being a pretty interpretable. It gives you the ability to see the probability of each prediction. I liked how quickly this model fit given the large amount of data present. In general Logistic Regression is a low variance, high bias model and it makes the assumption that the log odds of the probability of an event are a linear combination of independent or predictor variables.\n",
    "My results mirrored the basic assumption about LR. It was a very low variance model with a high amount of bias."
   ]
  },
  {
   "cell_type": "code",
   "execution_count": 60,
   "metadata": {},
   "outputs": [],
   "source": [
    "import pandas as pd\n",
    "import numpy as np\n",
    "from sklearn.feature_extraction.text import TfidfVectorizer\n",
    "from sklearn.model_selection import train_test_split\n",
    "from sklearn.linear_model import LogisticRegression\n",
    "from sklearn.pipeline import Pipeline\n",
    "from sklearn.grid_search import GridSearchCV\n",
    "from sklearn.metrics import confusion_matrix\n",
    "import re\n",
    "import pickle\n",
    "import matplotlib.pyplot as plt"
   ]
  },
  {
   "cell_type": "markdown",
   "metadata": {},
   "source": [
    "# Loading  my data"
   ]
  },
  {
   "cell_type": "code",
   "execution_count": 61,
   "metadata": {},
   "outputs": [],
   "source": [
    "combined = pd.read_pickle('../assets/combined.pkl')"
   ]
  },
  {
   "cell_type": "code",
   "execution_count": 3,
   "metadata": {},
   "outputs": [
    {
     "data": {
      "text/plain": [
       "Index(['author', 'author_cakeday', 'author_flair_background_color',\n",
       "       'author_flair_css_class', 'author_flair_richtext',\n",
       "       'author_flair_template_id', 'author_flair_text',\n",
       "       'author_flair_text_color', 'author_flair_type', 'author_fullname',\n",
       "       'author_id', 'body', 'created_utc', 'distinguished', 'edited', 'id',\n",
       "       'link_id', 'no_follow', 'parent_id', 'permalink', 'retrieved_on',\n",
       "       'rte_mode', 'score', 'send_replies', 'stickied', 'subreddit',\n",
       "       'subreddit_id'],\n",
       "      dtype='object')"
      ]
     },
     "execution_count": 3,
     "metadata": {},
     "output_type": "execute_result"
    }
   ],
   "source": [
    "combined.columns"
   ]
  },
  {
   "cell_type": "markdown",
   "metadata": {},
   "source": [
    "# Loading my assets"
   ]
  },
  {
   "cell_type": "code",
   "execution_count": 62,
   "metadata": {},
   "outputs": [],
   "source": [
    "X_train = pd.read_pickle('../assets/X_train.pkl')\n",
    "X_test = pd.read_pickle('../assets/X_test.pkl')\n",
    "y_train = pd.read_pickle('../assets/y_train.pkl')\n",
    "y_test = pd.read_pickle('../assets/y_test.pkl')"
   ]
  },
  {
   "cell_type": "markdown",
   "metadata": {},
   "source": [
    "# Setting up the Pipeline\n",
    "This included a tfidf vectorizer which was chosen to help manage the sheer volume of data I was working with. I like that tfidf helps scale the data a bit given that it's not just a direct count of word occurence. That said tfidf vectorizing is still a bag of words model so it disregards grammar and sentiment."
   ]
  },
  {
   "cell_type": "code",
   "execution_count": 5,
   "metadata": {},
   "outputs": [],
   "source": [
    "pipe = Pipeline([\n",
    "    ('tfidf', TfidfVectorizer(stop_words='english',ngram_range=(1,2))),\n",
    "    ('lr',LogisticRegression(solver='liblinear')),\n",
    "    \n",
    "])\n"
   ]
  },
  {
   "cell_type": "markdown",
   "metadata": {},
   "source": [
    "# Setting up the parameter grid"
   ]
  },
  {
   "cell_type": "code",
   "execution_count": 6,
   "metadata": {},
   "outputs": [],
   "source": [
    "param_grid =  {\n",
    "    'tfidf__min_df': np.arange(1,5,2),\n",
    "    'tfidf__max_df': [.10, .98, 1.0],\n",
    "    'lr__C': np.linspace(0.1,.9,3)\n",
    "    \n",
    "    \n",
    "}"
   ]
  },
  {
   "cell_type": "code",
   "execution_count": 7,
   "metadata": {},
   "outputs": [],
   "source": [
    "gs = GridSearchCV(pipe, param_grid=param_grid,verbose=1)"
   ]
  },
  {
   "cell_type": "markdown",
   "metadata": {},
   "source": [
    "# Fitting the model"
   ]
  },
  {
   "cell_type": "code",
   "execution_count": 8,
   "metadata": {},
   "outputs": [
    {
     "name": "stdout",
     "output_type": "stream",
     "text": [
      "Fitting 3 folds for each of 18 candidates, totalling 54 fits\n"
     ]
    },
    {
     "name": "stderr",
     "output_type": "stream",
     "text": [
      "[Parallel(n_jobs=1)]: Done  54 out of  54 | elapsed: 24.7min finished\n"
     ]
    },
    {
     "data": {
      "text/plain": [
       "GridSearchCV(cv=None, error_score='raise',\n",
       "       estimator=Pipeline(memory=None,\n",
       "     steps=[('tfidf', TfidfVectorizer(analyzer='word', binary=False, decode_error='strict',\n",
       "        dtype=<class 'numpy.int64'>, encoding='utf-8', input='content',\n",
       "        lowercase=True, max_df=1.0, max_features=None, min_df=1,\n",
       "        ngram_range=(1, 2), norm='l2', preprocessor=None, smooth_idf=True,\n",
       " ...ty='l2', random_state=None, solver='liblinear', tol=0.0001,\n",
       "          verbose=0, warm_start=False))]),\n",
       "       fit_params={}, iid=True, n_jobs=1,\n",
       "       param_grid={'tfidf__min_df': array([1, 3]), 'tfidf__max_df': [0.1, 0.98, 1.0], 'lr__C': array([0.1, 0.5, 0.9])},\n",
       "       pre_dispatch='2*n_jobs', refit=True, scoring=None, verbose=1)"
      ]
     },
     "execution_count": 8,
     "metadata": {},
     "output_type": "execute_result"
    }
   ],
   "source": [
    "gs.fit(X_train,y_train)"
   ]
  },
  {
   "cell_type": "markdown",
   "metadata": {},
   "source": [
    "# Scoring the model\n",
    "This score indicated to me that the model overfit the training data"
   ]
  },
  {
   "cell_type": "code",
   "execution_count": 18,
   "metadata": {},
   "outputs": [
    {
     "data": {
      "text/plain": [
       "0.8130511946459845"
      ]
     },
     "execution_count": 18,
     "metadata": {},
     "output_type": "execute_result"
    }
   ],
   "source": [
    "gs.score(X_train,y_train)"
   ]
  },
  {
   "cell_type": "code",
   "execution_count": 19,
   "metadata": {},
   "outputs": [
    {
     "data": {
      "text/plain": [
       "0.7387753482281043"
      ]
     },
     "execution_count": 19,
     "metadata": {},
     "output_type": "execute_result"
    }
   ],
   "source": [
    "gs.score(X_test,y_test)"
   ]
  },
  {
   "cell_type": "code",
   "execution_count": 12,
   "metadata": {},
   "outputs": [
    {
     "data": {
      "text/plain": [
       "0.7318809419564674"
      ]
     },
     "execution_count": 12,
     "metadata": {},
     "output_type": "execute_result"
    }
   ],
   "source": [
    "gs.best_score_"
   ]
  },
  {
   "cell_type": "code",
   "execution_count": 13,
   "metadata": {},
   "outputs": [
    {
     "data": {
      "text/plain": [
       "Pipeline(memory=None,\n",
       "     steps=[('tfidf', TfidfVectorizer(analyzer='word', binary=False, decode_error='strict',\n",
       "        dtype=<class 'numpy.int64'>, encoding='utf-8', input='content',\n",
       "        lowercase=True, max_df=0.98, max_features=None, min_df=3,\n",
       "        ngram_range=(1, 2), norm='l2', preprocessor=None, smooth_idf=True,\n",
       "...ty='l2', random_state=None, solver='liblinear', tol=0.0001,\n",
       "          verbose=0, warm_start=False))])"
      ]
     },
     "execution_count": 13,
     "metadata": {},
     "output_type": "execute_result"
    }
   ],
   "source": [
    "gs.best_estimator_"
   ]
  },
  {
   "cell_type": "markdown",
   "metadata": {},
   "source": [
    "# Seeing how it generalizes on new data"
   ]
  },
  {
   "cell_type": "code",
   "execution_count": 14,
   "metadata": {},
   "outputs": [
    {
     "data": {
      "text/plain": [
       "array(['Libertarian'], dtype='<U19')"
      ]
     },
     "execution_count": 14,
     "metadata": {},
     "output_type": "execute_result"
    }
   ],
   "source": [
    "gs.predict([\"Trump mocks NFL for ratings drop; suggests numbers would improve if players didn't kneel\"]) #Fox news Headline"
   ]
  },
  {
   "cell_type": "code",
   "execution_count": 15,
   "metadata": {},
   "outputs": [
    {
     "data": {
      "text/plain": [
       "array(['LateStageCapitalism'], dtype='<U19')"
      ]
     },
     "execution_count": 15,
     "metadata": {},
     "output_type": "execute_result"
    }
   ],
   "source": [
    "gs.predict([\"The Simple Solution to Inequality\"])#Jacobin Headline"
   ]
  },
  {
   "cell_type": "markdown",
   "metadata": {},
   "source": [
    "# Baseline score"
   ]
  },
  {
   "cell_type": "code",
   "execution_count": 16,
   "metadata": {},
   "outputs": [
    {
     "data": {
      "text/plain": [
       "Libertarian            0.526845\n",
       "LateStageCapitalism    0.473155\n",
       "Name: subreddit, dtype: float64"
      ]
     },
     "execution_count": 16,
     "metadata": {},
     "output_type": "execute_result"
    }
   ],
   "source": [
    "combined['subreddit'].value_counts()/combined.shape[0]"
   ]
  },
  {
   "cell_type": "code",
   "execution_count": 17,
   "metadata": {},
   "outputs": [],
   "source": [
    "with open('../assets/logistic_regression.pkl','wb+') as f:\n",
    "    pickle.dump(gs,f)"
   ]
  },
  {
   "cell_type": "code",
   "execution_count": 63,
   "metadata": {},
   "outputs": [],
   "source": [
    " gs = pickle.load(open( \"../assets/logistic_regression.pkl\", \"rb\" ))"
   ]
  },
  {
   "cell_type": "code",
   "execution_count": 64,
   "metadata": {},
   "outputs": [],
   "source": [
    "X_train_preds = gs.predict(X_train)"
   ]
  },
  {
   "cell_type": "markdown",
   "metadata": {},
   "source": [
    "# Making a predictions dataframe\n",
    "Many of my models achieved very similar accuracy scores. Interestingly enough many of the same posts showed up as important predictors across multiple models."
   ]
  },
  {
   "cell_type": "code",
   "execution_count": 7,
   "metadata": {},
   "outputs": [],
   "source": [
    "preds = pd.DataFrame({\n",
    "    \"preds\":X_train_preds,\n",
    "    \"features\":X_train,\n",
    "    \"truth\":y_train\n",
    "})"
   ]
  },
  {
   "cell_type": "code",
   "execution_count": 57,
   "metadata": {},
   "outputs": [
    {
     "data": {
      "text/html": [
       "<div>\n",
       "<style scoped>\n",
       "    .dataframe tbody tr th:only-of-type {\n",
       "        vertical-align: middle;\n",
       "    }\n",
       "\n",
       "    .dataframe tbody tr th {\n",
       "        vertical-align: top;\n",
       "    }\n",
       "\n",
       "    .dataframe thead th {\n",
       "        text-align: right;\n",
       "    }\n",
       "</style>\n",
       "<table border=\"1\" class=\"dataframe\">\n",
       "  <thead>\n",
       "    <tr style=\"text-align: right;\">\n",
       "      <th></th>\n",
       "      <th>preds</th>\n",
       "      <th>features</th>\n",
       "      <th>truth</th>\n",
       "    </tr>\n",
       "  </thead>\n",
       "  <tbody>\n",
       "    <tr>\n",
       "      <th>30147</th>\n",
       "      <td>LateStageCapitalism</td>\n",
       "      <td>all white meat. babies of colour are kept in a...</td>\n",
       "      <td>LateStageCapitalism</td>\n",
       "    </tr>\n",
       "    <tr>\n",
       "      <th>57685</th>\n",
       "      <td>Libertarian</td>\n",
       "      <td>it was illegal for people of other religions t...</td>\n",
       "      <td>Libertarian</td>\n",
       "    </tr>\n",
       "    <tr>\n",
       "      <th>29468</th>\n",
       "      <td>Libertarian</td>\n",
       "      <td>the usa is already spending way more per capit...</td>\n",
       "      <td>LateStageCapitalism</td>\n",
       "    </tr>\n",
       "    <tr>\n",
       "      <th>110065</th>\n",
       "      <td>LateStageCapitalism</td>\n",
       "      <td>overall, yes. the genocide of the natives was ...</td>\n",
       "      <td>LateStageCapitalism</td>\n",
       "    </tr>\n",
       "    <tr>\n",
       "      <th>120518</th>\n",
       "      <td>Libertarian</td>\n",
       "      <td>&amp;; this is basic burden of proof       lol    ...</td>\n",
       "      <td>Libertarian</td>\n",
       "    </tr>\n",
       "    <tr>\n",
       "      <th>103194</th>\n",
       "      <td>LateStageCapitalism</td>\n",
       "      <td>well, i work at amazon and love everything abo...</td>\n",
       "      <td>LateStageCapitalism</td>\n",
       "    </tr>\n",
       "    <tr>\n",
       "      <th>165256</th>\n",
       "      <td>Libertarian</td>\n",
       "      <td>property is who is in charge now?</td>\n",
       "      <td>Libertarian</td>\n",
       "    </tr>\n",
       "    <tr>\n",
       "      <th>92019</th>\n",
       "      <td>Libertarian</td>\n",
       "      <td>no they haven't. the number of actual nazis is...</td>\n",
       "      <td>Libertarian</td>\n",
       "    </tr>\n",
       "    <tr>\n",
       "      <th>108695</th>\n",
       "      <td>LateStageCapitalism</td>\n",
       "      <td>so just...fuck disabled people, i guess?</td>\n",
       "      <td>LateStageCapitalism</td>\n",
       "    </tr>\n",
       "    <tr>\n",
       "      <th>164912</th>\n",
       "      <td>LateStageCapitalism</td>\n",
       "      <td>i don't know.... shared services sounds alot l...</td>\n",
       "      <td>Libertarian</td>\n",
       "    </tr>\n",
       "  </tbody>\n",
       "</table>\n",
       "</div>"
      ],
      "text/plain": [
       "                      preds  \\\n",
       "30147   LateStageCapitalism   \n",
       "57685           Libertarian   \n",
       "29468           Libertarian   \n",
       "110065  LateStageCapitalism   \n",
       "120518          Libertarian   \n",
       "103194  LateStageCapitalism   \n",
       "165256          Libertarian   \n",
       "92019           Libertarian   \n",
       "108695  LateStageCapitalism   \n",
       "164912  LateStageCapitalism   \n",
       "\n",
       "                                                 features                truth  \n",
       "30147   all white meat. babies of colour are kept in a...  LateStageCapitalism  \n",
       "57685   it was illegal for people of other religions t...          Libertarian  \n",
       "29468   the usa is already spending way more per capit...  LateStageCapitalism  \n",
       "110065  overall, yes. the genocide of the natives was ...  LateStageCapitalism  \n",
       "120518  &; this is basic burden of proof       lol    ...          Libertarian  \n",
       "103194  well, i work at amazon and love everything abo...  LateStageCapitalism  \n",
       "165256                  property is who is in charge now?          Libertarian  \n",
       "92019   no they haven't. the number of actual nazis is...          Libertarian  \n",
       "108695           so just...fuck disabled people, i guess?  LateStageCapitalism  \n",
       "164912  i don't know.... shared services sounds alot l...          Libertarian  "
      ]
     },
     "execution_count": 57,
     "metadata": {},
     "output_type": "execute_result"
    }
   ],
   "source": [
    "preds.head(10)"
   ]
  },
  {
   "cell_type": "markdown",
   "metadata": {},
   "source": [
    "# Exploring  posts\n",
    "With more compute power I would love to try and genralize this idea by feeding it posts from news sources like breitbart and slate. Paring that with sentiment analysis to build a model that may be able accurately predict political affiliation or bias in the writings based on the style and keyword density. A potential difficulty with that is being able have a model genralize well in a situation where one side maybe referencing the other thereby using keywords that might trigger a false positive. At the very least if the model decent enough accuracy it could be used to flag an article for a human to review. "
   ]
  },
  {
   "cell_type": "code",
   "execution_count": 43,
   "metadata": {},
   "outputs": [
    {
     "data": {
      "text/plain": [
       "preds                                     LateStageCapitalism\n",
       "features    countries without profit-driven, capitalistic ...\n",
       "truth                                             Libertarian\n",
       "Name: 63290, dtype: object"
      ]
     },
     "execution_count": 43,
     "metadata": {},
     "output_type": "execute_result"
    }
   ],
   "source": [
    "preds.iloc[29468]"
   ]
  },
  {
   "cell_type": "markdown",
   "metadata": {},
   "source": [
    "# This post incorrectly predicted my 1 class or r/Libertarian\n",
    "It looks to me based on my eda that this is the case because of the density of the word America in the sentence. An interesting thing to note is that although my post is misclassifed. The content of the post seems to be from a user who holds values that would fall inline with libertarian philosophy responding to another user who may have made some sort of critique on market driven economies when in relation to healthcare. So in this case, through the keyword density, this model was able to correctly predict in a crude wat the underlying philosophy associated with the post. This demonstrates to me that through some more fine tuning of the model and with a slighty modified mission. This model could be used to understand or predict where someone falls on the political specturm based on the language that they use. That type of technology might be extended to provide a sort of bias score for a given body of text. One idea I would also love to try is extending this by taking articles written on the same subject by multiple news outlets and examning the similarities and differences between the language used.  From there one might be able to create a score that indicates the potential level of bias in the writing based on the density of certain keywords. A step further would be having the score indicate from which side of the aisle the bias in coming from. This could be of enourmous use in helping slow down the trend of fake news."
   ]
  },
  {
   "cell_type": "code",
   "execution_count": 59,
   "metadata": {},
   "outputs": [
    {
     "data": {
      "text/plain": [
       "preds                                     LateStageCapitalism\n",
       "features    countries without profit-driven, capitalistic ...\n",
       "truth                                             Libertarian\n",
       "Name: 63290, dtype: object"
      ]
     },
     "execution_count": 59,
     "metadata": {},
     "output_type": "execute_result"
    }
   ],
   "source": [
    "preds.iloc[29468]"
   ]
  },
  {
   "cell_type": "code",
   "execution_count": 44,
   "metadata": {},
   "outputs": [
    {
     "data": {
      "text/plain": [
       "'countries without profit-driven, capitalistic economies haven’t produced the medical advancements that everyone gets to use today.  antibiotics?  america.  chemotherapy?  america.  almost every modern drug?  america.  most modern surgical procedures? america.  it’s not as much a “blanket statement” as it is a “historical statement”.'"
      ]
     },
     "execution_count": 44,
     "metadata": {},
     "output_type": "execute_result"
    }
   ],
   "source": [
    "preds['features'].iloc[29468]"
   ]
  },
  {
   "cell_type": "markdown",
   "metadata": {},
   "source": [
    "# True Negative\n",
    "Here the model identified a true negative again certain keywords that showed up as important in making a distinction between LSC and LIB are present: Jobs,poverty,wages,. Again the key thing to note is the density of the words in each excerpt."
   ]
  },
  {
   "cell_type": "code",
   "execution_count": 58,
   "metadata": {},
   "outputs": [
    {
     "data": {
      "text/plain": [
       "preds                                     LateStageCapitalism\n",
       "features    i'm not exactly sure what you're arguing about...\n",
       "truth                                     LateStageCapitalism\n",
       "Name: 24594, dtype: object"
      ]
     },
     "execution_count": 58,
     "metadata": {},
     "output_type": "execute_result"
    }
   ],
   "source": [
    "preds.iloc[195414]"
   ]
  },
  {
   "cell_type": "code",
   "execution_count": 48,
   "metadata": {},
   "outputs": [
    {
     "data": {
      "text/plain": [
       "\"i'm not exactly sure what you're arguing about? i'm saying they need to be paid more and you're saying there is no conspiracy... i never said there was.   people need jobs and they're paying poverty wages for a position that can mean life or death. if you have a certificate that says you can make $ versus your state minimum wage which is probably lower you'll probably take it.   i feel like you're just being argumentative to be that way, or you've never been in a position where you just had to take a job and couldn't be picky.\""
      ]
     },
     "execution_count": 48,
     "metadata": {},
     "output_type": "execute_result"
    }
   ],
   "source": [
    "preds['features'].iloc[195414]"
   ]
  },
  {
   "cell_type": "code",
   "execution_count": 50,
   "metadata": {},
   "outputs": [
    {
     "data": {
      "text/plain": [
       "'sometimes i try to look up ways to save money/cut my budget and the advice is always things i already do. i already spend less than the / of income on housing rule, and my grocery budget is way lower than these advice columns recommend. there’s really not much left to cut 😞'"
      ]
     },
     "execution_count": 50,
     "metadata": {},
     "output_type": "execute_result"
    }
   ],
   "source": [
    "preds['features'].iloc[42368]\n"
   ]
  },
  {
   "cell_type": "code",
   "execution_count": 17,
   "metadata": {},
   "outputs": [],
   "source": [
    "mis_pred = preds[(preds['preds'] != preds['truth'])]"
   ]
  },
  {
   "cell_type": "code",
   "execution_count": 56,
   "metadata": {},
   "outputs": [
    {
     "data": {
      "text/html": [
       "<div>\n",
       "<style scoped>\n",
       "    .dataframe tbody tr th:only-of-type {\n",
       "        vertical-align: middle;\n",
       "    }\n",
       "\n",
       "    .dataframe tbody tr th {\n",
       "        vertical-align: top;\n",
       "    }\n",
       "\n",
       "    .dataframe thead th {\n",
       "        text-align: right;\n",
       "    }\n",
       "</style>\n",
       "<table border=\"1\" class=\"dataframe\">\n",
       "  <thead>\n",
       "    <tr style=\"text-align: right;\">\n",
       "      <th></th>\n",
       "      <th>preds</th>\n",
       "      <th>features</th>\n",
       "      <th>truth</th>\n",
       "    </tr>\n",
       "  </thead>\n",
       "  <tbody>\n",
       "    <tr>\n",
       "      <th>29468</th>\n",
       "      <td>Libertarian</td>\n",
       "      <td>the usa is already spending way more per capit...</td>\n",
       "      <td>LateStageCapitalism</td>\n",
       "    </tr>\n",
       "    <tr>\n",
       "      <th>164912</th>\n",
       "      <td>LateStageCapitalism</td>\n",
       "      <td>i don't know.... shared services sounds alot l...</td>\n",
       "      <td>Libertarian</td>\n",
       "    </tr>\n",
       "    <tr>\n",
       "      <th>194812</th>\n",
       "      <td>Libertarian</td>\n",
       "      <td>tribalism.</td>\n",
       "      <td>LateStageCapitalism</td>\n",
       "    </tr>\n",
       "    <tr>\n",
       "      <th>178569</th>\n",
       "      <td>LateStageCapitalism</td>\n",
       "      <td>cheers!</td>\n",
       "      <td>Libertarian</td>\n",
       "    </tr>\n",
       "    <tr>\n",
       "      <th>124230</th>\n",
       "      <td>LateStageCapitalism</td>\n",
       "      <td>g</td>\n",
       "      <td>Libertarian</td>\n",
       "    </tr>\n",
       "    <tr>\n",
       "      <th>156197</th>\n",
       "      <td>LateStageCapitalism</td>\n",
       "      <td>you incorrectly used a word and moved on cool ...</td>\n",
       "      <td>Libertarian</td>\n",
       "    </tr>\n",
       "    <tr>\n",
       "      <th>148420</th>\n",
       "      <td>LateStageCapitalism</td>\n",
       "      <td>nah, i don't want that.  i'm pissed when a ven...</td>\n",
       "      <td>Libertarian</td>\n",
       "    </tr>\n",
       "    <tr>\n",
       "      <th>59412</th>\n",
       "      <td>LateStageCapitalism</td>\n",
       "      <td>\"you're shit\" \"fuck you\". ?</td>\n",
       "      <td>Libertarian</td>\n",
       "    </tr>\n",
       "    <tr>\n",
       "      <th>195414</th>\n",
       "      <td>Libertarian</td>\n",
       "      <td>bro there’s a difference between model and cas...</td>\n",
       "      <td>LateStageCapitalism</td>\n",
       "    </tr>\n",
       "    <tr>\n",
       "      <th>183841</th>\n",
       "      <td>Libertarian</td>\n",
       "      <td>you would be an expert on shitposting, so i wi...</td>\n",
       "      <td>LateStageCapitalism</td>\n",
       "    </tr>\n",
       "  </tbody>\n",
       "</table>\n",
       "</div>"
      ],
      "text/plain": [
       "                      preds  \\\n",
       "29468           Libertarian   \n",
       "164912  LateStageCapitalism   \n",
       "194812          Libertarian   \n",
       "178569  LateStageCapitalism   \n",
       "124230  LateStageCapitalism   \n",
       "156197  LateStageCapitalism   \n",
       "148420  LateStageCapitalism   \n",
       "59412   LateStageCapitalism   \n",
       "195414          Libertarian   \n",
       "183841          Libertarian   \n",
       "\n",
       "                                                 features                truth  \n",
       "29468   the usa is already spending way more per capit...  LateStageCapitalism  \n",
       "164912  i don't know.... shared services sounds alot l...          Libertarian  \n",
       "194812                                         tribalism.  LateStageCapitalism  \n",
       "178569                                            cheers!          Libertarian  \n",
       "124230                                                  g          Libertarian  \n",
       "156197  you incorrectly used a word and moved on cool ...          Libertarian  \n",
       "148420  nah, i don't want that.  i'm pissed when a ven...          Libertarian  \n",
       "59412                         \"you're shit\" \"fuck you\". ?          Libertarian  \n",
       "195414  bro there’s a difference between model and cas...  LateStageCapitalism  \n",
       "183841  you would be an expert on shitposting, so i wi...  LateStageCapitalism  "
      ]
     },
     "execution_count": 56,
     "metadata": {},
     "output_type": "execute_result"
    }
   ],
   "source": [
    "mis_pred.head(10)"
   ]
  },
  {
   "cell_type": "markdown",
   "metadata": {},
   "source": [
    "# Only around 18% percent of my posts are being misclassified.\n"
   ]
  },
  {
   "cell_type": "code",
   "execution_count": 54,
   "metadata": {},
   "outputs": [
    {
     "data": {
      "text/plain": [
       "0.1869488053540155"
      ]
     },
     "execution_count": 54,
     "metadata": {},
     "output_type": "execute_result"
    }
   ],
   "source": [
    "len(mis_pred)/len(preds)"
   ]
  },
  {
   "cell_type": "code",
   "execution_count": 88,
   "metadata": {},
   "outputs": [
    {
     "data": {
      "text/plain": [
       "array([[0.79170234, 0.20829766],\n",
       "       [0.27292397, 0.72707603],\n",
       "       [0.41852437, 0.58147563],\n",
       "       ...,\n",
       "       [0.40897996, 0.59102004],\n",
       "       [0.60113064, 0.39886936],\n",
       "       [0.1994428 , 0.8005572 ]])"
      ]
     },
     "execution_count": 88,
     "metadata": {},
     "output_type": "execute_result"
    }
   ],
   "source": [
    "gs.predict_proba(X_train)"
   ]
  }
 ],
 "metadata": {
  "kernelspec": {
   "display_name": "Python 3",
   "language": "python",
   "name": "python3"
  },
  "language_info": {
   "codemirror_mode": {
    "name": "ipython",
    "version": 3
   },
   "file_extension": ".py",
   "mimetype": "text/x-python",
   "name": "python",
   "nbconvert_exporter": "python",
   "pygments_lexer": "ipython3",
   "version": "3.6.5"
  }
 },
 "nbformat": 4,
 "nbformat_minor": 2
}
