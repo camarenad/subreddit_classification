{
 "cells": [
  {
   "cell_type": "code",
   "execution_count": null,
   "metadata": {},
   "outputs": [],
   "source": []
  },
  {
   "cell_type": "markdown",
   "metadata": {},
   "source": [
    "# Multinomial Naive Bayes - Production\n",
    "I chose a to fit a Multinomial Naive Bayes because of the simplicity of it's assumptions and it's straightforaward implemenation. Of all models fit the Bayes model performed the best with the least amount of tuning and in the shortest amount of time. "
   ]
  },
  {
   "cell_type": "code",
   "execution_count": 2,
   "metadata": {},
   "outputs": [
    {
     "name": "stderr",
     "output_type": "stream",
     "text": [
      "/Applications/anaconda3/lib/python3.6/site-packages/sklearn/cross_validation.py:41: DeprecationWarning: This module was deprecated in version 0.18 in favor of the model_selection module into which all the refactored classes and functions are moved. Also note that the interface of the new CV iterators are different from that of this module. This module will be removed in 0.20.\n",
      "  \"This module will be removed in 0.20.\", DeprecationWarning)\n",
      "/Applications/anaconda3/lib/python3.6/site-packages/sklearn/grid_search.py:42: DeprecationWarning: This module was deprecated in version 0.18 in favor of the model_selection module into which all the refactored classes and functions are moved. This module will be removed in 0.20.\n",
      "  DeprecationWarning)\n"
     ]
    }
   ],
   "source": [
    "import pandas as pd\n",
    "import numpy as np\n",
    "from sklearn.feature_extraction.text import TfidfVectorizer\n",
    "from sklearn.model_selection import train_test_split\n",
    "from sklearn.naive_bayes import MultinomialNB\n",
    "from sklearn.pipeline import Pipeline\n",
    "from sklearn.grid_search import GridSearchCV\n",
    "from sklearn.metrics import confusion_matrix\n",
    "import nltk\n",
    "import re\n",
    "import pickle"
   ]
  },
  {
   "cell_type": "markdown",
   "metadata": {},
   "source": [
    "# Loading in pickled data"
   ]
  },
  {
   "cell_type": "code",
   "execution_count": 3,
   "metadata": {},
   "outputs": [],
   "source": [
    "combined = pd.read_pickle('../assets/combined.pkl')\n"
   ]
  },
  {
   "cell_type": "markdown",
   "metadata": {},
   "source": [
    "# Loading pickled train test split set"
   ]
  },
  {
   "cell_type": "code",
   "execution_count": 4,
   "metadata": {},
   "outputs": [],
   "source": [
    "X_train = pd.read_pickle('../assets/X_train.pkl')\n",
    "X_test = pd.read_pickle('../assets/X_test.pkl')\n",
    "y_train = pd.read_pickle('../assets/y_train.pkl')\n",
    "y_test = pd.read_pickle('../assets/y_test.pkl')"
   ]
  },
  {
   "cell_type": "markdown",
   "metadata": {},
   "source": [
    "# Setting up my pipe line.\n",
    "Feeding my data through a pipeline which includes a tfidf vectorizer and a multinomial bayes classifier.\n",
    "I passed the tfidf english stop words and gridsearched for my best parameters. I chose to look through a range of documents for mindf rather than through floats using np.linspace, this was simply due to limitations on computing due to the volume in data. Ultimately the model determined running with a mindf of 1 was appropriate. The max DF on the other hand, which ignores words that appear in more than the threshold set ended up being .95. This means that the max df should be filtering out plenty of repetative words that may not be included in my stop words. The best alpha parameter for my NB was .50 which in retrospect I may have been able to increase the alpha to achieve gains in accuracy, but 76% accuracy seemed reasonable given my dataset and higher and I would suspect an overfit model."
   ]
  },
  {
   "cell_type": "code",
   "execution_count": 4,
   "metadata": {},
   "outputs": [],
   "source": [
    "pipe = Pipeline([\n",
    "    ('tfidf', TfidfVectorizer(stop_words='english')),\n",
    "    ('nb',MultinomialNB()),\n",
    "])\n"
   ]
  },
  {
   "cell_type": "code",
   "execution_count": 5,
   "metadata": {},
   "outputs": [],
   "source": [
    "param_grid =  {\n",
    "    'tfidf__min_df': np.arange(1,10,2),\n",
    "    'tfidf__max_df': [.95, .98, 1.0],\n",
    "    'nb__alpha': [.01,.10,.20,.50]\n",
    "}"
   ]
  },
  {
   "cell_type": "markdown",
   "metadata": {},
   "source": [
    "# Running a grid search for the best parameters"
   ]
  },
  {
   "cell_type": "code",
   "execution_count": 6,
   "metadata": {},
   "outputs": [],
   "source": [
    "gs = GridSearchCV(pipe, param_grid=param_grid,verbose=1)"
   ]
  },
  {
   "cell_type": "code",
   "execution_count": 7,
   "metadata": {},
   "outputs": [
    {
     "name": "stdout",
     "output_type": "stream",
     "text": [
      "Fitting 3 folds for each of 60 candidates, totalling 180 fits\n"
     ]
    },
    {
     "name": "stderr",
     "output_type": "stream",
     "text": [
      "[Parallel(n_jobs=1)]: Done 180 out of 180 | elapsed: 19.2min finished\n"
     ]
    },
    {
     "data": {
      "text/plain": [
       "GridSearchCV(cv=None, error_score='raise',\n",
       "       estimator=Pipeline(memory=None,\n",
       "     steps=[('tfidf', TfidfVectorizer(analyzer='word', binary=False, decode_error='strict',\n",
       "        dtype=<class 'numpy.int64'>, encoding='utf-8', input='content',\n",
       "        lowercase=True, max_df=1.0, max_features=None, min_df=1,\n",
       "        ngram_range=(1, 1), norm='l2', preprocessor=None, smooth_idf=True,\n",
       " ...True,\n",
       "        vocabulary=None)), ('nb', MultinomialNB(alpha=1.0, class_prior=None, fit_prior=True))]),\n",
       "       fit_params={}, iid=True, n_jobs=1,\n",
       "       param_grid={'tfidf__min_df': array([1, 3, 5, 7, 9]), 'tfidf__max_df': [0.95, 0.98, 1.0], 'nb__alpha': [0.01, 0.1, 0.2, 0.5]},\n",
       "       pre_dispatch='2*n_jobs', refit=True, scoring=None, verbose=1)"
      ]
     },
     "execution_count": 7,
     "metadata": {},
     "output_type": "execute_result"
    }
   ],
   "source": [
    "gs.fit(X_train,y_train)"
   ]
  },
  {
   "cell_type": "markdown",
   "metadata": {},
   "source": [
    "# Best Parameters\n",
    "\n"
   ]
  },
  {
   "cell_type": "code",
   "execution_count": 8,
   "metadata": {},
   "outputs": [
    {
     "data": {
      "text/plain": [
       "{'nb__alpha': 0.5, 'tfidf__max_df': 0.95, 'tfidf__min_df': 1}"
      ]
     },
     "execution_count": 8,
     "metadata": {},
     "output_type": "execute_result"
    }
   ],
   "source": [
    "gs.best_params_"
   ]
  },
  {
   "cell_type": "markdown",
   "metadata": {},
   "source": [
    "# Scoring the model"
   ]
  },
  {
   "cell_type": "code",
   "execution_count": 9,
   "metadata": {},
   "outputs": [
    {
     "data": {
      "text/plain": [
       "0.7667547535651739"
      ]
     },
     "execution_count": 9,
     "metadata": {},
     "output_type": "execute_result"
    }
   ],
   "source": [
    "gs.score(X_train,y_train)"
   ]
  },
  {
   "cell_type": "code",
   "execution_count": 10,
   "metadata": {},
   "outputs": [
    {
     "data": {
      "text/plain": [
       "0.7234255327592365"
      ]
     },
     "execution_count": 10,
     "metadata": {},
     "output_type": "execute_result"
    }
   ],
   "source": [
    "gs.score(X_test,y_test)"
   ]
  },
  {
   "cell_type": "code",
   "execution_count": 20,
   "metadata": {},
   "outputs": [
    {
     "data": {
      "text/plain": [
       "array([[0.15037602, 0.84962398],\n",
       "       [0.43696979, 0.56303021],\n",
       "       [0.25381307, 0.74618693],\n",
       "       ...,\n",
       "       [0.47298755, 0.52701245],\n",
       "       [0.39041347, 0.60958653],\n",
       "       [0.23486574, 0.76513426]])"
      ]
     },
     "execution_count": 20,
     "metadata": {},
     "output_type": "execute_result"
    }
   ],
   "source": [
    "gs.predict_proba(X_test)"
   ]
  },
  {
   "cell_type": "code",
   "execution_count": 21,
   "metadata": {},
   "outputs": [
    {
     "data": {
      "text/plain": [
       "0.7204700400300225"
      ]
     },
     "execution_count": 21,
     "metadata": {},
     "output_type": "execute_result"
    }
   ],
   "source": [
    "gs.best_score_"
   ]
  },
  {
   "cell_type": "markdown",
   "metadata": {},
   "source": [
    "# Calculating the baseline score"
   ]
  },
  {
   "cell_type": "code",
   "execution_count": 25,
   "metadata": {},
   "outputs": [
    {
     "data": {
      "text/plain": [
       "LateStageCapitalism    0.502404\n",
       "Libertarian            0.497596\n",
       "Name: subreddit, dtype: float64"
      ]
     },
     "execution_count": 25,
     "metadata": {},
     "output_type": "execute_result"
    }
   ],
   "source": [
    "combined['subreddit'].value_counts()/combined.shape[0]"
   ]
  },
  {
   "cell_type": "markdown",
   "metadata": {},
   "source": [
    "# Playing feeding simple keywords into the model for prediction\n",
    "A neat feature of setting up a pipeline is the ability to run new data through the model. I've pulled newer comments \n",
    "and articles from each sub to test the accuracy. It can  recognize very specific keywords from each sub with some impressive accuracy. But when the two subs have talk about subjects that overlap you see an increase in False Positives. My 1 class being whether or not a post was from r/Libertarian. "
   ]
  },
  {
   "cell_type": "code",
   "execution_count": 27,
   "metadata": {},
   "outputs": [],
   "source": [
    "foo = [\"\"\"\n",
    "'I love Marx'\n",
    "\"\"\"]"
   ]
  },
  {
   "cell_type": "code",
   "execution_count": 28,
   "metadata": {},
   "outputs": [
    {
     "data": {
      "text/plain": [
       "array(['LateStageCapitalism'], dtype='<U19')"
      ]
     },
     "execution_count": 28,
     "metadata": {},
     "output_type": "execute_result"
    }
   ],
   "source": [
    "gs.predict(foo)"
   ]
  },
  {
   "cell_type": "code",
   "execution_count": 29,
   "metadata": {},
   "outputs": [
    {
     "data": {
      "text/plain": [
       "array(['Libertarian', 'Libertarian', 'Libertarian', ..., 'Libertarian',\n",
       "       'Libertarian', 'Libertarian'], dtype='<U19')"
      ]
     },
     "execution_count": 29,
     "metadata": {},
     "output_type": "execute_result"
    }
   ],
   "source": [
    "preds = gs.predict(X_test)\n",
    "preds"
   ]
  },
  {
   "cell_type": "markdown",
   "metadata": {},
   "source": [
    "# Setting up a confusion matrix\n",
    "Although this model has a 76% accuracy score it suffers from a serious drawback. When predicting my 1 class the model classifies too many false positives. The model only scores a measley 40% when it comes to sensitivity. In future iterations I would do some more feature engineering and tuning."
   ]
  },
  {
   "cell_type": "code",
   "execution_count": 30,
   "metadata": {},
   "outputs": [],
   "source": [
    "cm = confusion_matrix(y_test,preds,labels=['LateStageCapitalism','Libertarian'])"
   ]
  },
  {
   "cell_type": "code",
   "execution_count": 31,
   "metadata": {},
   "outputs": [
    {
     "data": {
      "text/html": [
       "<div>\n",
       "<style scoped>\n",
       "    .dataframe tbody tr th:only-of-type {\n",
       "        vertical-align: middle;\n",
       "    }\n",
       "\n",
       "    .dataframe tbody tr th {\n",
       "        vertical-align: top;\n",
       "    }\n",
       "\n",
       "    .dataframe thead th {\n",
       "        text-align: right;\n",
       "    }\n",
       "</style>\n",
       "<table border=\"1\" class=\"dataframe\">\n",
       "  <thead>\n",
       "    <tr style=\"text-align: right;\">\n",
       "      <th></th>\n",
       "      <th>pred_LSC</th>\n",
       "      <th>pred_LIB</th>\n",
       "    </tr>\n",
       "  </thead>\n",
       "  <tbody>\n",
       "    <tr>\n",
       "      <th>actual_Negtive</th>\n",
       "      <td>39054</td>\n",
       "      <td>20604</td>\n",
       "    </tr>\n",
       "    <tr>\n",
       "      <th>actual_Positive</th>\n",
       "      <td>14243</td>\n",
       "      <td>52094</td>\n",
       "    </tr>\n",
       "  </tbody>\n",
       "</table>\n",
       "</div>"
      ],
      "text/plain": [
       "                 pred_LSC  pred_LIB\n",
       "actual_Negtive      39054     20604\n",
       "actual_Positive     14243     52094"
      ]
     },
     "execution_count": 31,
     "metadata": {},
     "output_type": "execute_result"
    }
   ],
   "source": [
    "cm_df = pd.DataFrame(data=cm,columns=['pred_LSC','pred_LIB'],index=['actual_Negtive','actual_Positive'])\n",
    "cm_df"
   ]
  },
  {
   "cell_type": "code",
   "execution_count": 35,
   "metadata": {},
   "outputs": [
    {
     "data": {
      "text/plain": [
       "(66337, 59658)"
      ]
     },
     "execution_count": 35,
     "metadata": {},
     "output_type": "execute_result"
    }
   ],
   "source": [
    "y_test.count('Libertarian'),y_test.count('LateStageCapitalism')"
   ]
  },
  {
   "cell_type": "code",
   "execution_count": 218,
   "metadata": {},
   "outputs": [],
   "source": [
    "with open('../assets/naive_bayes_model.pkl','wb+') as f:\n",
    "    pickle.dump(gs,f)"
   ]
  },
  {
   "cell_type": "code",
   "execution_count": 219,
   "metadata": {},
   "outputs": [],
   "source": [
    " gs = pickle.load( open( \"../assets/naive_bayes_model.pkl\", \"rb\" ) )"
   ]
  },
  {
   "cell_type": "code",
   "execution_count": 16,
   "metadata": {},
   "outputs": [
    {
     "data": {
      "text/plain": [
       "{'nb__alpha': 0.5, 'tfidf__max_df': 0.95, 'tfidf__min_df': 1}"
      ]
     },
     "execution_count": 16,
     "metadata": {},
     "output_type": "execute_result"
    }
   ],
   "source": [
    "gs.best_params_"
   ]
  },
  {
   "cell_type": "code",
   "execution_count": 11,
   "metadata": {},
   "outputs": [
    {
     "data": {
      "text/plain": [
       "Pipeline(memory=None,\n",
       "     steps=[('tfidf', TfidfVectorizer(analyzer='word', binary=False, decode_error='strict',\n",
       "        dtype=<class 'numpy.int64'>, encoding='utf-8', input='content',\n",
       "        lowercase=True, max_df=0.95, max_features=None, min_df=1,\n",
       "        ngram_range=(1, 1), norm='l2', preprocessor=None, smooth_idf=True,\n",
       "...True,\n",
       "        vocabulary=None)), ('nb', MultinomialNB(alpha=0.5, class_prior=None, fit_prior=True))])"
      ]
     },
     "execution_count": 11,
     "metadata": {},
     "output_type": "execute_result"
    }
   ],
   "source": [
    "gs.best_estimator_\n"
   ]
  },
  {
   "cell_type": "code",
   "execution_count": 221,
   "metadata": {},
   "outputs": [],
   "source": [
    "weights = gs.best_estimator_.steps[-1][1].coef_[0]"
   ]
  },
  {
   "cell_type": "code",
   "execution_count": 222,
   "metadata": {},
   "outputs": [],
   "source": [
    "features = gs.best_estimator_.steps[0][1].get_feature_names()"
   ]
  },
  {
   "cell_type": "code",
   "execution_count": 223,
   "metadata": {},
   "outputs": [],
   "source": [
    "import pandas as pd"
   ]
  },
  {
   "cell_type": "code",
   "execution_count": 224,
   "metadata": {},
   "outputs": [],
   "source": [
    "df = {\n",
    "    \"features\":features,\n",
    "    \"weights\":weights,\n",
    "}\n",
    "df = pd.DataFrame(df)"
   ]
  },
  {
   "cell_type": "code",
   "execution_count": null,
   "metadata": {},
   "outputs": [],
   "source": []
  },
  {
   "cell_type": "code",
   "execution_count": null,
   "metadata": {},
   "outputs": [],
   "source": []
  },
  {
   "cell_type": "code",
   "execution_count": 230,
   "metadata": {},
   "outputs": [
    {
     "data": {
      "text/html": [
       "<div>\n",
       "<style scoped>\n",
       "    .dataframe tbody tr th:only-of-type {\n",
       "        vertical-align: middle;\n",
       "    }\n",
       "\n",
       "    .dataframe tbody tr th {\n",
       "        vertical-align: top;\n",
       "    }\n",
       "\n",
       "    .dataframe thead th {\n",
       "        text-align: right;\n",
       "    }\n",
       "</style>\n",
       "<table border=\"1\" class=\"dataframe\">\n",
       "  <thead>\n",
       "    <tr style=\"text-align: right;\">\n",
       "      <th></th>\n",
       "      <th>features</th>\n",
       "      <th>weights</th>\n",
       "    </tr>\n",
       "  </thead>\n",
       "  <tbody>\n",
       "    <tr>\n",
       "      <th>16018</th>\n",
       "      <td>culturalkarlmarxism</td>\n",
       "      <td>-13.789317</td>\n",
       "    </tr>\n",
       "    <tr>\n",
       "      <th>36974</th>\n",
       "      <td>karl</td>\n",
       "      <td>-10.393648</td>\n",
       "    </tr>\n",
       "    <tr>\n",
       "      <th>36975</th>\n",
       "      <td>karlos</td>\n",
       "      <td>-13.789317</td>\n",
       "    </tr>\n",
       "  </tbody>\n",
       "</table>\n",
       "</div>"
      ],
      "text/plain": [
       "                  features    weights\n",
       "16018  culturalkarlmarxism -13.789317\n",
       "36974                 karl -10.393648\n",
       "36975               karlos -13.789317"
      ]
     },
     "execution_count": 230,
     "metadata": {},
     "output_type": "execute_result"
    }
   ],
   "source": [
    "df[df.features.str.contains(\"karl\")].head(100)"
   ]
  },
  {
   "cell_type": "code",
   "execution_count": 217,
   "metadata": {},
   "outputs": [
    {
     "data": {
      "text/html": [
       "<div>\n",
       "<style scoped>\n",
       "    .dataframe tbody tr th:only-of-type {\n",
       "        vertical-align: middle;\n",
       "    }\n",
       "\n",
       "    .dataframe tbody tr th {\n",
       "        vertical-align: top;\n",
       "    }\n",
       "\n",
       "    .dataframe thead th {\n",
       "        text-align: right;\n",
       "    }\n",
       "</style>\n",
       "<table border=\"1\" class=\"dataframe\">\n",
       "  <thead>\n",
       "    <tr style=\"text-align: right;\">\n",
       "      <th></th>\n",
       "      <th>features</th>\n",
       "      <th>weights</th>\n",
       "    </tr>\n",
       "  </thead>\n",
       "  <tbody>\n",
       "    <tr>\n",
       "      <th>7952</th>\n",
       "      <td>bookmarx</td>\n",
       "      <td>-12.660116</td>\n",
       "    </tr>\n",
       "    <tr>\n",
       "      <th>16018</th>\n",
       "      <td>culturalkarlmarxism</td>\n",
       "      <td>-13.789317</td>\n",
       "    </tr>\n",
       "    <tr>\n",
       "      <th>39258</th>\n",
       "      <td>libertarianmarxist</td>\n",
       "      <td>-13.096649</td>\n",
       "    </tr>\n",
       "    <tr>\n",
       "      <th>41547</th>\n",
       "      <td>marx</td>\n",
       "      <td>-8.953760</td>\n",
       "    </tr>\n",
       "    <tr>\n",
       "      <th>41548</th>\n",
       "      <td>marxerino</td>\n",
       "      <td>-13.325928</td>\n",
       "    </tr>\n",
       "    <tr>\n",
       "      <th>41549</th>\n",
       "      <td>marxian</td>\n",
       "      <td>-11.981380</td>\n",
       "    </tr>\n",
       "    <tr>\n",
       "      <th>41550</th>\n",
       "      <td>marxim</td>\n",
       "      <td>-13.789317</td>\n",
       "    </tr>\n",
       "    <tr>\n",
       "      <th>41551</th>\n",
       "      <td>marximum</td>\n",
       "      <td>-13.789317</td>\n",
       "    </tr>\n",
       "    <tr>\n",
       "      <th>41552</th>\n",
       "      <td>marxism</td>\n",
       "      <td>-9.357587</td>\n",
       "    </tr>\n",
       "    <tr>\n",
       "      <th>41553</th>\n",
       "      <td>marxist</td>\n",
       "      <td>-9.218564</td>\n",
       "    </tr>\n",
       "    <tr>\n",
       "      <th>41554</th>\n",
       "      <td>marxists</td>\n",
       "      <td>-9.961243</td>\n",
       "    </tr>\n",
       "    <tr>\n",
       "      <th>41555</th>\n",
       "      <td>marxk</td>\n",
       "      <td>-13.036335</td>\n",
       "    </tr>\n",
       "    <tr>\n",
       "      <th>41556</th>\n",
       "      <td>marxlaugh</td>\n",
       "      <td>-13.789317</td>\n",
       "    </tr>\n",
       "    <tr>\n",
       "      <th>41557</th>\n",
       "      <td>marxmas</td>\n",
       "      <td>-13.789317</td>\n",
       "    </tr>\n",
       "    <tr>\n",
       "      <th>41558</th>\n",
       "      <td>marxpheus</td>\n",
       "      <td>-13.789317</td>\n",
       "    </tr>\n",
       "    <tr>\n",
       "      <th>41559</th>\n",
       "      <td>marxs</td>\n",
       "      <td>-13.789317</td>\n",
       "    </tr>\n",
       "    <tr>\n",
       "      <th>41560</th>\n",
       "      <td>marxsist</td>\n",
       "      <td>-13.789317</td>\n",
       "    </tr>\n",
       "    <tr>\n",
       "      <th>41561</th>\n",
       "      <td>marxtrix</td>\n",
       "      <td>-13.789317</td>\n",
       "    </tr>\n",
       "    <tr>\n",
       "      <th>45831</th>\n",
       "      <td>neomarxism</td>\n",
       "      <td>-12.922365</td>\n",
       "    </tr>\n",
       "    <tr>\n",
       "      <th>45832</th>\n",
       "      <td>neomarxist</td>\n",
       "      <td>-13.789317</td>\n",
       "    </tr>\n",
       "    <tr>\n",
       "      <th>53970</th>\n",
       "      <td>protomarxist</td>\n",
       "      <td>-13.291142</td>\n",
       "    </tr>\n",
       "  </tbody>\n",
       "</table>\n",
       "</div>"
      ],
      "text/plain": [
       "                  features    weights\n",
       "7952              bookmarx -12.660116\n",
       "16018  culturalkarlmarxism -13.789317\n",
       "39258   libertarianmarxist -13.096649\n",
       "41547                 marx  -8.953760\n",
       "41548            marxerino -13.325928\n",
       "41549              marxian -11.981380\n",
       "41550               marxim -13.789317\n",
       "41551             marximum -13.789317\n",
       "41552              marxism  -9.357587\n",
       "41553              marxist  -9.218564\n",
       "41554             marxists  -9.961243\n",
       "41555                marxk -13.036335\n",
       "41556            marxlaugh -13.789317\n",
       "41557              marxmas -13.789317\n",
       "41558            marxpheus -13.789317\n",
       "41559                marxs -13.789317\n",
       "41560             marxsist -13.789317\n",
       "41561             marxtrix -13.789317\n",
       "45831           neomarxism -12.922365\n",
       "45832           neomarxist -13.789317\n",
       "53970         protomarxist -13.291142"
      ]
     },
     "execution_count": 217,
     "metadata": {},
     "output_type": "execute_result"
    }
   ],
   "source": [
    "def keyworder(frame,keyword_list):\n",
    "    for word in keyword_list:\n",
    "        if word in keyword_list:\n",
    "            return frame[frame.features.str.contains(word)]\n",
    "keyworder(df,['marx','socialism','freedom','democracy'])\n",
    "\n",
    "\n"
   ]
  },
  {
   "cell_type": "code",
   "execution_count": 166,
   "metadata": {},
   "outputs": [
    {
     "data": {
      "text/plain": [
       "numpy.ndarray"
      ]
     },
     "execution_count": 166,
     "metadata": {},
     "output_type": "execute_result"
    }
   ],
   "source": [
    "\n"
   ]
  },
  {
   "cell_type": "code",
   "execution_count": 134,
   "metadata": {},
   "outputs": [],
   "source": [
    "X_train_preds = gs.predict(X_train)"
   ]
  },
  {
   "cell_type": "code",
   "execution_count": null,
   "metadata": {},
   "outputs": [],
   "source": []
  },
  {
   "cell_type": "code",
   "execution_count": 114,
   "metadata": {},
   "outputs": [],
   "source": [
    "preds = pd.DataFrame({\n",
    "    \"preds\":X_train_preds,\n",
    "    \"features\":X_train,\n",
    "    \"truth\":y_train\n",
    "})"
   ]
  },
  {
   "cell_type": "code",
   "execution_count": 116,
   "metadata": {},
   "outputs": [
    {
     "data": {
      "text/html": [
       "<div>\n",
       "<style scoped>\n",
       "    .dataframe tbody tr th:only-of-type {\n",
       "        vertical-align: middle;\n",
       "    }\n",
       "\n",
       "    .dataframe tbody tr th {\n",
       "        vertical-align: top;\n",
       "    }\n",
       "\n",
       "    .dataframe thead th {\n",
       "        text-align: right;\n",
       "    }\n",
       "</style>\n",
       "<table border=\"1\" class=\"dataframe\">\n",
       "  <thead>\n",
       "    <tr style=\"text-align: right;\">\n",
       "      <th></th>\n",
       "      <th>preds</th>\n",
       "      <th>features</th>\n",
       "      <th>truth</th>\n",
       "    </tr>\n",
       "  </thead>\n",
       "  <tbody>\n",
       "    <tr>\n",
       "      <th>30147</th>\n",
       "      <td>LateStageCapitalism</td>\n",
       "      <td>all white meat. babies of colour are kept in a...</td>\n",
       "      <td>LateStageCapitalism</td>\n",
       "    </tr>\n",
       "    <tr>\n",
       "      <th>57685</th>\n",
       "      <td>Libertarian</td>\n",
       "      <td>it was illegal for people of other religions t...</td>\n",
       "      <td>Libertarian</td>\n",
       "    </tr>\n",
       "    <tr>\n",
       "      <th>29468</th>\n",
       "      <td>Libertarian</td>\n",
       "      <td>the usa is already spending way more per capit...</td>\n",
       "      <td>LateStageCapitalism</td>\n",
       "    </tr>\n",
       "    <tr>\n",
       "      <th>110065</th>\n",
       "      <td>Libertarian</td>\n",
       "      <td>overall, yes. the genocide of the natives was ...</td>\n",
       "      <td>LateStageCapitalism</td>\n",
       "    </tr>\n",
       "    <tr>\n",
       "      <th>120518</th>\n",
       "      <td>Libertarian</td>\n",
       "      <td>&amp;; this is basic burden of proof       lol    ...</td>\n",
       "      <td>Libertarian</td>\n",
       "    </tr>\n",
       "  </tbody>\n",
       "</table>\n",
       "</div>"
      ],
      "text/plain": [
       "                      preds  \\\n",
       "30147   LateStageCapitalism   \n",
       "57685           Libertarian   \n",
       "29468           Libertarian   \n",
       "110065          Libertarian   \n",
       "120518          Libertarian   \n",
       "\n",
       "                                                 features                truth  \n",
       "30147   all white meat. babies of colour are kept in a...  LateStageCapitalism  \n",
       "57685   it was illegal for people of other religions t...          Libertarian  \n",
       "29468   the usa is already spending way more per capit...  LateStageCapitalism  \n",
       "110065  overall, yes. the genocide of the natives was ...  LateStageCapitalism  \n",
       "120518  &; this is basic burden of proof       lol    ...          Libertarian  "
      ]
     },
     "execution_count": 116,
     "metadata": {},
     "output_type": "execute_result"
    }
   ],
   "source": [
    "preds.head()"
   ]
  },
  {
   "cell_type": "code",
   "execution_count": 129,
   "metadata": {},
   "outputs": [
    {
     "data": {
      "text/html": [
       "<div>\n",
       "<style scoped>\n",
       "    .dataframe tbody tr th:only-of-type {\n",
       "        vertical-align: middle;\n",
       "    }\n",
       "\n",
       "    .dataframe tbody tr th {\n",
       "        vertical-align: top;\n",
       "    }\n",
       "\n",
       "    .dataframe thead th {\n",
       "        text-align: right;\n",
       "    }\n",
       "</style>\n",
       "<table border=\"1\" class=\"dataframe\">\n",
       "  <thead>\n",
       "    <tr style=\"text-align: right;\">\n",
       "      <th></th>\n",
       "      <th>preds</th>\n",
       "      <th>features</th>\n",
       "      <th>truth</th>\n",
       "    </tr>\n",
       "  </thead>\n",
       "  <tbody>\n",
       "    <tr>\n",
       "      <th>29468</th>\n",
       "      <td>Libertarian</td>\n",
       "      <td>the usa is already spending way more per capit...</td>\n",
       "      <td>LateStageCapitalism</td>\n",
       "    </tr>\n",
       "    <tr>\n",
       "      <th>110065</th>\n",
       "      <td>Libertarian</td>\n",
       "      <td>overall, yes. the genocide of the natives was ...</td>\n",
       "      <td>LateStageCapitalism</td>\n",
       "    </tr>\n",
       "    <tr>\n",
       "      <th>164912</th>\n",
       "      <td>LateStageCapitalism</td>\n",
       "      <td>i don't know.... shared services sounds alot l...</td>\n",
       "      <td>Libertarian</td>\n",
       "    </tr>\n",
       "    <tr>\n",
       "      <th>194812</th>\n",
       "      <td>Libertarian</td>\n",
       "      <td>tribalism.</td>\n",
       "      <td>LateStageCapitalism</td>\n",
       "    </tr>\n",
       "    <tr>\n",
       "      <th>6383</th>\n",
       "      <td>LateStageCapitalism</td>\n",
       "      <td>i guess fuck white kids then? that's your argu...</td>\n",
       "      <td>Libertarian</td>\n",
       "    </tr>\n",
       "    <tr>\n",
       "      <th>178569</th>\n",
       "      <td>LateStageCapitalism</td>\n",
       "      <td>cheers!</td>\n",
       "      <td>Libertarian</td>\n",
       "    </tr>\n",
       "    <tr>\n",
       "      <th>151147</th>\n",
       "      <td>LateStageCapitalism</td>\n",
       "      <td>lol you're simply fucked in the head if you th...</td>\n",
       "      <td>Libertarian</td>\n",
       "    </tr>\n",
       "    <tr>\n",
       "      <th>84395</th>\n",
       "      <td>Libertarian</td>\n",
       "      <td>the article you linked showed me that f &amp;lt;-&amp;...</td>\n",
       "      <td>LateStageCapitalism</td>\n",
       "    </tr>\n",
       "    <tr>\n",
       "      <th>184323</th>\n",
       "      <td>LateStageCapitalism</td>\n",
       "      <td>. war is the only real problem on this list. ....</td>\n",
       "      <td>Libertarian</td>\n",
       "    </tr>\n",
       "    <tr>\n",
       "      <th>105209</th>\n",
       "      <td>Libertarian</td>\n",
       "      <td>you have to laugh at some of these rankings an...</td>\n",
       "      <td>LateStageCapitalism</td>\n",
       "    </tr>\n",
       "    <tr>\n",
       "      <th>84772</th>\n",
       "      <td>Libertarian</td>\n",
       "      <td>good point.</td>\n",
       "      <td>LateStageCapitalism</td>\n",
       "    </tr>\n",
       "    <tr>\n",
       "      <th>170701</th>\n",
       "      <td>LateStageCapitalism</td>\n",
       "      <td>yeah, i know.  i'm startin to ween myself off ...</td>\n",
       "      <td>Libertarian</td>\n",
       "    </tr>\n",
       "    <tr>\n",
       "      <th>156197</th>\n",
       "      <td>LateStageCapitalism</td>\n",
       "      <td>you incorrectly used a word and moved on cool ...</td>\n",
       "      <td>Libertarian</td>\n",
       "    </tr>\n",
       "    <tr>\n",
       "      <th>148420</th>\n",
       "      <td>LateStageCapitalism</td>\n",
       "      <td>nah, i don't want that.  i'm pissed when a ven...</td>\n",
       "      <td>Libertarian</td>\n",
       "    </tr>\n",
       "    <tr>\n",
       "      <th>110238</th>\n",
       "      <td>Libertarian</td>\n",
       "      <td>his end goal is to help his businesses.</td>\n",
       "      <td>LateStageCapitalism</td>\n",
       "    </tr>\n",
       "    <tr>\n",
       "      <th>59412</th>\n",
       "      <td>LateStageCapitalism</td>\n",
       "      <td>\"you're shit\" \"fuck you\". ?</td>\n",
       "      <td>Libertarian</td>\n",
       "    </tr>\n",
       "    <tr>\n",
       "      <th>195414</th>\n",
       "      <td>Libertarian</td>\n",
       "      <td>bro there’s a difference between model and cas...</td>\n",
       "      <td>LateStageCapitalism</td>\n",
       "    </tr>\n",
       "    <tr>\n",
       "      <th>183841</th>\n",
       "      <td>Libertarian</td>\n",
       "      <td>you would be an expert on shitposting, so i wi...</td>\n",
       "      <td>LateStageCapitalism</td>\n",
       "    </tr>\n",
       "    <tr>\n",
       "      <th>188887</th>\n",
       "      <td>LateStageCapitalism</td>\n",
       "      <td>late stage capitalism doesn’t know how to logic</td>\n",
       "      <td>Libertarian</td>\n",
       "    </tr>\n",
       "    <tr>\n",
       "      <th>68613</th>\n",
       "      <td>LateStageCapitalism</td>\n",
       "      <td>that fork could be trickle down economics.</td>\n",
       "      <td>Libertarian</td>\n",
       "    </tr>\n",
       "    <tr>\n",
       "      <th>154193</th>\n",
       "      <td>Libertarian</td>\n",
       "      <td>&amp;; how to persuade your husband to open your m...</td>\n",
       "      <td>LateStageCapitalism</td>\n",
       "    </tr>\n",
       "    <tr>\n",
       "      <th>96917</th>\n",
       "      <td>Libertarian</td>\n",
       "      <td>i literally put nothing on you.</td>\n",
       "      <td>LateStageCapitalism</td>\n",
       "    </tr>\n",
       "    <tr>\n",
       "      <th>199373</th>\n",
       "      <td>LateStageCapitalism</td>\n",
       "      <td>&amp;;yes, but it artificially speeds up the proce...</td>\n",
       "      <td>Libertarian</td>\n",
       "    </tr>\n",
       "    <tr>\n",
       "      <th>103148</th>\n",
       "      <td>LateStageCapitalism</td>\n",
       "      <td>\"automated\" :p</td>\n",
       "      <td>Libertarian</td>\n",
       "    </tr>\n",
       "    <tr>\n",
       "      <th>142296</th>\n",
       "      <td>Libertarian</td>\n",
       "      <td>hahahaha houses and medicine hahahah human rig...</td>\n",
       "      <td>LateStageCapitalism</td>\n",
       "    </tr>\n",
       "    <tr>\n",
       "      <th>178076</th>\n",
       "      <td>LateStageCapitalism</td>\n",
       "      <td>i mean, its pf. as someone who goes to pf, the...</td>\n",
       "      <td>Libertarian</td>\n",
       "    </tr>\n",
       "    <tr>\n",
       "      <th>8938</th>\n",
       "      <td>Libertarian</td>\n",
       "      <td>but not really, right? because noone is beatin...</td>\n",
       "      <td>LateStageCapitalism</td>\n",
       "    </tr>\n",
       "    <tr>\n",
       "      <th>142000</th>\n",
       "      <td>LateStageCapitalism</td>\n",
       "      <td>mega milk?</td>\n",
       "      <td>Libertarian</td>\n",
       "    </tr>\n",
       "    <tr>\n",
       "      <th>44657</th>\n",
       "      <td>LateStageCapitalism</td>\n",
       "      <td>&amp;; living causes harm to the planet and that c...</td>\n",
       "      <td>Libertarian</td>\n",
       "    </tr>\n",
       "    <tr>\n",
       "      <th>140298</th>\n",
       "      <td>LateStageCapitalism</td>\n",
       "      <td>low effort, low impact, low interest. do a tri...</td>\n",
       "      <td>Libertarian</td>\n",
       "    </tr>\n",
       "    <tr>\n",
       "      <th>...</th>\n",
       "      <td>...</td>\n",
       "      <td>...</td>\n",
       "      <td>...</td>\n",
       "    </tr>\n",
       "    <tr>\n",
       "      <th>11670</th>\n",
       "      <td>Libertarian</td>\n",
       "      <td>no its just cause we disagree on some things l...</td>\n",
       "      <td>LateStageCapitalism</td>\n",
       "    </tr>\n",
       "    <tr>\n",
       "      <th>112502</th>\n",
       "      <td>LateStageCapitalism</td>\n",
       "      <td>socialist then?</td>\n",
       "      <td>Libertarian</td>\n",
       "    </tr>\n",
       "    <tr>\n",
       "      <th>54052</th>\n",
       "      <td>Libertarian</td>\n",
       "      <td>&amp;; he, by undue persuasion, incitement, or dec...</td>\n",
       "      <td>LateStageCapitalism</td>\n",
       "    </tr>\n",
       "    <tr>\n",
       "      <th>23766</th>\n",
       "      <td>LateStageCapitalism</td>\n",
       "      <td>&amp;;so i guess some poor people do have luxuries...</td>\n",
       "      <td>Libertarian</td>\n",
       "    </tr>\n",
       "    <tr>\n",
       "      <th>20152</th>\n",
       "      <td>Libertarian</td>\n",
       "      <td>a patriot who worshipped rich people isn't a p...</td>\n",
       "      <td>LateStageCapitalism</td>\n",
       "    </tr>\n",
       "    <tr>\n",
       "      <th>110195</th>\n",
       "      <td>Libertarian</td>\n",
       "      <td>r/iamverysmart material right here</td>\n",
       "      <td>LateStageCapitalism</td>\n",
       "    </tr>\n",
       "    <tr>\n",
       "      <th>79189</th>\n",
       "      <td>Libertarian</td>\n",
       "      <td>capitalists are all up against monopolies beca...</td>\n",
       "      <td>LateStageCapitalism</td>\n",
       "    </tr>\n",
       "    <tr>\n",
       "      <th>143674</th>\n",
       "      <td>Libertarian</td>\n",
       "      <td></td>\n",
       "      <td>LateStageCapitalism</td>\n",
       "    </tr>\n",
       "    <tr>\n",
       "      <th>182086</th>\n",
       "      <td>LateStageCapitalism</td>\n",
       "      <td>you are right for sure.    the other thing to ...</td>\n",
       "      <td>Libertarian</td>\n",
       "    </tr>\n",
       "    <tr>\n",
       "      <th>49656</th>\n",
       "      <td>LateStageCapitalism</td>\n",
       "      <td>this is fucked up.</td>\n",
       "      <td>Libertarian</td>\n",
       "    </tr>\n",
       "    <tr>\n",
       "      <th>18924</th>\n",
       "      <td>Libertarian</td>\n",
       "      <td>even if it is hypocritical, i appreciate him d...</td>\n",
       "      <td>LateStageCapitalism</td>\n",
       "    </tr>\n",
       "    <tr>\n",
       "      <th>24907</th>\n",
       "      <td>Libertarian</td>\n",
       "      <td>what?</td>\n",
       "      <td>LateStageCapitalism</td>\n",
       "    </tr>\n",
       "    <tr>\n",
       "      <th>199984</th>\n",
       "      <td>LateStageCapitalism</td>\n",
       "      <td>hmm</td>\n",
       "      <td>Libertarian</td>\n",
       "    </tr>\n",
       "    <tr>\n",
       "      <th>91858</th>\n",
       "      <td>Libertarian</td>\n",
       "      <td>just because bad things continue to happen doe...</td>\n",
       "      <td>LateStageCapitalism</td>\n",
       "    </tr>\n",
       "    <tr>\n",
       "      <th>89194</th>\n",
       "      <td>Libertarian</td>\n",
       "      <td>conflicting thoughts.    first, there is some ...</td>\n",
       "      <td>LateStageCapitalism</td>\n",
       "    </tr>\n",
       "    <tr>\n",
       "      <th>63109</th>\n",
       "      <td>Libertarian</td>\n",
       "      <td>idk why you’re being downvoted. this mentality...</td>\n",
       "      <td>LateStageCapitalism</td>\n",
       "    </tr>\n",
       "    <tr>\n",
       "      <th>57971</th>\n",
       "      <td>Libertarian</td>\n",
       "      <td>lmao you finna get banned</td>\n",
       "      <td>LateStageCapitalism</td>\n",
       "    </tr>\n",
       "    <tr>\n",
       "      <th>126310</th>\n",
       "      <td>LateStageCapitalism</td>\n",
       "      <td>that's because it's not a story. it's a fuckin...</td>\n",
       "      <td>Libertarian</td>\n",
       "    </tr>\n",
       "    <tr>\n",
       "      <th>4434</th>\n",
       "      <td>Libertarian</td>\n",
       "      <td>\"there’s nothing conservative about that, just...</td>\n",
       "      <td>LateStageCapitalism</td>\n",
       "    </tr>\n",
       "    <tr>\n",
       "      <th>3918</th>\n",
       "      <td>LateStageCapitalism</td>\n",
       "      <td>[best version of this song by far](</td>\n",
       "      <td>Libertarian</td>\n",
       "    </tr>\n",
       "    <tr>\n",
       "      <th>82564</th>\n",
       "      <td>Libertarian</td>\n",
       "      <td>oh yea i'm just jealous of other's wealth, you...</td>\n",
       "      <td>LateStageCapitalism</td>\n",
       "    </tr>\n",
       "    <tr>\n",
       "      <th>85988</th>\n",
       "      <td>LateStageCapitalism</td>\n",
       "      <td>i just came back from cuba. it's not wealthy a...</td>\n",
       "      <td>Libertarian</td>\n",
       "    </tr>\n",
       "    <tr>\n",
       "      <th>132681</th>\n",
       "      <td>LateStageCapitalism</td>\n",
       "      <td>fucking seriously, this guy is the worst</td>\n",
       "      <td>Libertarian</td>\n",
       "    </tr>\n",
       "    <tr>\n",
       "      <th>166509</th>\n",
       "      <td>Libertarian</td>\n",
       "      <td>very good point, and at the end of the day i d...</td>\n",
       "      <td>LateStageCapitalism</td>\n",
       "    </tr>\n",
       "    <tr>\n",
       "      <th>159264</th>\n",
       "      <td>LateStageCapitalism</td>\n",
       "      <td>you just say *bingo*  oh ^^wait</td>\n",
       "      <td>Libertarian</td>\n",
       "    </tr>\n",
       "    <tr>\n",
       "      <th>14778</th>\n",
       "      <td>Libertarian</td>\n",
       "      <td>you can always go somewhere else.  something s...</td>\n",
       "      <td>LateStageCapitalism</td>\n",
       "    </tr>\n",
       "    <tr>\n",
       "      <th>39388</th>\n",
       "      <td>Libertarian</td>\n",
       "      <td>this is a tweet. he has a limited number of ch...</td>\n",
       "      <td>LateStageCapitalism</td>\n",
       "    </tr>\n",
       "    <tr>\n",
       "      <th>87916</th>\n",
       "      <td>Libertarian</td>\n",
       "      <td>if i called out an argument as straw man and y...</td>\n",
       "      <td>LateStageCapitalism</td>\n",
       "    </tr>\n",
       "    <tr>\n",
       "      <th>177995</th>\n",
       "      <td>LateStageCapitalism</td>\n",
       "      <td>i hope you’re miserable for a very, very long ...</td>\n",
       "      <td>Libertarian</td>\n",
       "    </tr>\n",
       "    <tr>\n",
       "      <th>66185</th>\n",
       "      <td>Libertarian</td>\n",
       "      <td>you’re not intelligent enough to understand.  ...</td>\n",
       "      <td>LateStageCapitalism</td>\n",
       "    </tr>\n",
       "  </tbody>\n",
       "</table>\n",
       "<p>59666 rows × 3 columns</p>\n",
       "</div>"
      ],
      "text/plain": [
       "                      preds  \\\n",
       "29468           Libertarian   \n",
       "110065          Libertarian   \n",
       "164912  LateStageCapitalism   \n",
       "194812          Libertarian   \n",
       "6383    LateStageCapitalism   \n",
       "178569  LateStageCapitalism   \n",
       "151147  LateStageCapitalism   \n",
       "84395           Libertarian   \n",
       "184323  LateStageCapitalism   \n",
       "105209          Libertarian   \n",
       "84772           Libertarian   \n",
       "170701  LateStageCapitalism   \n",
       "156197  LateStageCapitalism   \n",
       "148420  LateStageCapitalism   \n",
       "110238          Libertarian   \n",
       "59412   LateStageCapitalism   \n",
       "195414          Libertarian   \n",
       "183841          Libertarian   \n",
       "188887  LateStageCapitalism   \n",
       "68613   LateStageCapitalism   \n",
       "154193          Libertarian   \n",
       "96917           Libertarian   \n",
       "199373  LateStageCapitalism   \n",
       "103148  LateStageCapitalism   \n",
       "142296          Libertarian   \n",
       "178076  LateStageCapitalism   \n",
       "8938            Libertarian   \n",
       "142000  LateStageCapitalism   \n",
       "44657   LateStageCapitalism   \n",
       "140298  LateStageCapitalism   \n",
       "...                     ...   \n",
       "11670           Libertarian   \n",
       "112502  LateStageCapitalism   \n",
       "54052           Libertarian   \n",
       "23766   LateStageCapitalism   \n",
       "20152           Libertarian   \n",
       "110195          Libertarian   \n",
       "79189           Libertarian   \n",
       "143674          Libertarian   \n",
       "182086  LateStageCapitalism   \n",
       "49656   LateStageCapitalism   \n",
       "18924           Libertarian   \n",
       "24907           Libertarian   \n",
       "199984  LateStageCapitalism   \n",
       "91858           Libertarian   \n",
       "89194           Libertarian   \n",
       "63109           Libertarian   \n",
       "57971           Libertarian   \n",
       "126310  LateStageCapitalism   \n",
       "4434            Libertarian   \n",
       "3918    LateStageCapitalism   \n",
       "82564           Libertarian   \n",
       "85988   LateStageCapitalism   \n",
       "132681  LateStageCapitalism   \n",
       "166509          Libertarian   \n",
       "159264  LateStageCapitalism   \n",
       "14778           Libertarian   \n",
       "39388           Libertarian   \n",
       "87916           Libertarian   \n",
       "177995  LateStageCapitalism   \n",
       "66185           Libertarian   \n",
       "\n",
       "                                                 features                truth  \n",
       "29468   the usa is already spending way more per capit...  LateStageCapitalism  \n",
       "110065  overall, yes. the genocide of the natives was ...  LateStageCapitalism  \n",
       "164912  i don't know.... shared services sounds alot l...          Libertarian  \n",
       "194812                                         tribalism.  LateStageCapitalism  \n",
       "6383    i guess fuck white kids then? that's your argu...          Libertarian  \n",
       "178569                                            cheers!          Libertarian  \n",
       "151147  lol you're simply fucked in the head if you th...          Libertarian  \n",
       "84395   the article you linked showed me that f &lt;-&...  LateStageCapitalism  \n",
       "184323  . war is the only real problem on this list. ....          Libertarian  \n",
       "105209  you have to laugh at some of these rankings an...  LateStageCapitalism  \n",
       "84772                                         good point.  LateStageCapitalism  \n",
       "170701  yeah, i know.  i'm startin to ween myself off ...          Libertarian  \n",
       "156197  you incorrectly used a word and moved on cool ...          Libertarian  \n",
       "148420  nah, i don't want that.  i'm pissed when a ven...          Libertarian  \n",
       "110238            his end goal is to help his businesses.  LateStageCapitalism  \n",
       "59412                         \"you're shit\" \"fuck you\". ?          Libertarian  \n",
       "195414  bro there’s a difference between model and cas...  LateStageCapitalism  \n",
       "183841  you would be an expert on shitposting, so i wi...  LateStageCapitalism  \n",
       "188887    late stage capitalism doesn’t know how to logic          Libertarian  \n",
       "68613          that fork could be trickle down economics.          Libertarian  \n",
       "154193  &; how to persuade your husband to open your m...  LateStageCapitalism  \n",
       "96917                    i literally put nothing on you.   LateStageCapitalism  \n",
       "199373  &;yes, but it artificially speeds up the proce...          Libertarian  \n",
       "103148                                     \"automated\" :p          Libertarian  \n",
       "142296  hahahaha houses and medicine hahahah human rig...  LateStageCapitalism  \n",
       "178076  i mean, its pf. as someone who goes to pf, the...          Libertarian  \n",
       "8938    but not really, right? because noone is beatin...  LateStageCapitalism  \n",
       "142000                                         mega milk?          Libertarian  \n",
       "44657   &; living causes harm to the planet and that c...          Libertarian  \n",
       "140298  low effort, low impact, low interest. do a tri...          Libertarian  \n",
       "...                                                   ...                  ...  \n",
       "11670   no its just cause we disagree on some things l...  LateStageCapitalism  \n",
       "112502                                    socialist then?          Libertarian  \n",
       "54052   &; he, by undue persuasion, incitement, or dec...  LateStageCapitalism  \n",
       "23766   &;so i guess some poor people do have luxuries...          Libertarian  \n",
       "20152   a patriot who worshipped rich people isn't a p...  LateStageCapitalism  \n",
       "110195                r/iamverysmart material right here   LateStageCapitalism  \n",
       "79189   capitalists are all up against monopolies beca...  LateStageCapitalism  \n",
       "143674                                                     LateStageCapitalism  \n",
       "182086  you are right for sure.    the other thing to ...          Libertarian  \n",
       "49656                                 this is fucked up.           Libertarian  \n",
       "18924   even if it is hypocritical, i appreciate him d...  LateStageCapitalism  \n",
       "24907                                               what?  LateStageCapitalism  \n",
       "199984                                                hmm          Libertarian  \n",
       "91858   just because bad things continue to happen doe...  LateStageCapitalism  \n",
       "89194   conflicting thoughts.    first, there is some ...  LateStageCapitalism  \n",
       "63109   idk why you’re being downvoted. this mentality...  LateStageCapitalism  \n",
       "57971                           lmao you finna get banned  LateStageCapitalism  \n",
       "126310  that's because it's not a story. it's a fuckin...          Libertarian  \n",
       "4434    \"there’s nothing conservative about that, just...  LateStageCapitalism  \n",
       "3918                  [best version of this song by far](          Libertarian  \n",
       "82564   oh yea i'm just jealous of other's wealth, you...  LateStageCapitalism  \n",
       "85988   i just came back from cuba. it's not wealthy a...          Libertarian  \n",
       "132681           fucking seriously, this guy is the worst          Libertarian  \n",
       "166509  very good point, and at the end of the day i d...  LateStageCapitalism  \n",
       "159264                    you just say *bingo*  oh ^^wait          Libertarian  \n",
       "14778   you can always go somewhere else.  something s...  LateStageCapitalism  \n",
       "39388   this is a tweet. he has a limited number of ch...  LateStageCapitalism  \n",
       "87916   if i called out an argument as straw man and y...  LateStageCapitalism  \n",
       "177995  i hope you’re miserable for a very, very long ...          Libertarian  \n",
       "66185   you’re not intelligent enough to understand.  ...  LateStageCapitalism  \n",
       "\n",
       "[59666 rows x 3 columns]"
      ]
     },
     "execution_count": 129,
     "metadata": {},
     "output_type": "execute_result"
    }
   ],
   "source": [
    "preds[(preds['preds'] != preds['truth'])]"
   ]
  },
  {
   "cell_type": "code",
   "execution_count": null,
   "metadata": {},
   "outputs": [],
   "source": []
  },
  {
   "cell_type": "code",
   "execution_count": null,
   "metadata": {},
   "outputs": [],
   "source": []
  }
 ],
 "metadata": {
  "kernelspec": {
   "display_name": "Python 3",
   "language": "python",
   "name": "python3"
  },
  "language_info": {
   "codemirror_mode": {
    "name": "ipython",
    "version": 3
   },
   "file_extension": ".py",
   "mimetype": "text/x-python",
   "name": "python",
   "nbconvert_exporter": "python",
   "pygments_lexer": "ipython3",
   "version": "3.6.5"
  }
 },
 "nbformat": 4,
 "nbformat_minor": 2
}
