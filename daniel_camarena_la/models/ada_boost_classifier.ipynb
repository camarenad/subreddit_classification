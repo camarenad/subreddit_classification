{
 "cells": [
  {
   "cell_type": "markdown",
   "metadata": {},
   "source": [
    "# ADA BOOST CLASSIFIER\n",
    "I used a decision tree with a boost classifier. I had to try various settings in my parameter grid before finding an acceptable fit. My baseline score is %50. I made a concious choice to keep my classes balanced. This model seemed to fit the data most accurately. It scored an accuracy of about 68 percent which seems reasonable with volume of data."
   ]
  },
  {
   "cell_type": "code",
   "execution_count": 2,
   "metadata": {},
   "outputs": [
    {
     "name": "stderr",
     "output_type": "stream",
     "text": [
      "/Applications/anaconda3/lib/python3.6/site-packages/sklearn/cross_validation.py:41: DeprecationWarning: This module was deprecated in version 0.18 in favor of the model_selection module into which all the refactored classes and functions are moved. Also note that the interface of the new CV iterators are different from that of this module. This module will be removed in 0.20.\n",
      "  \"This module will be removed in 0.20.\", DeprecationWarning)\n",
      "/Applications/anaconda3/lib/python3.6/site-packages/sklearn/grid_search.py:42: DeprecationWarning: This module was deprecated in version 0.18 in favor of the model_selection module into which all the refactored classes and functions are moved. This module will be removed in 0.20.\n",
      "  DeprecationWarning)\n"
     ]
    }
   ],
   "source": [
    "import pandas as pd\n",
    "import numpy as np\n",
    "from sklearn.feature_extraction.text import TfidfVectorizer\n",
    "from sklearn.model_selection import train_test_split\n",
    "from sklearn.ensemble import AdaBoostClassifier\n",
    "from sklearn.pipeline import Pipeline\n",
    "from sklearn.grid_search import GridSearchCV\n",
    "from sklearn.metrics import confusion_matrix\n",
    "import re\n",
    "import pickle"
   ]
  },
  {
   "cell_type": "code",
   "execution_count": 4,
   "metadata": {},
   "outputs": [
    {
     "data": {
      "text/plain": [
       "Index(['author', 'author_cakeday', 'author_flair_background_color',\n",
       "       'author_flair_css_class', 'author_flair_richtext',\n",
       "       'author_flair_template_id', 'author_flair_text',\n",
       "       'author_flair_text_color', 'author_flair_type', 'author_fullname',\n",
       "       'author_id', 'body', 'created_utc', 'distinguished', 'edited', 'id',\n",
       "       'link_id', 'no_follow', 'parent_id', 'permalink', 'retrieved_on',\n",
       "       'rte_mode', 'score', 'send_replies', 'stickied', 'subreddit',\n",
       "       'subreddit_id'],\n",
       "      dtype='object')"
      ]
     },
     "execution_count": 4,
     "metadata": {},
     "output_type": "execute_result"
    }
   ],
   "source": [
    "combined = pd.read_pickle('../data/combined.pkl')\n",
    "combined.columns"
   ]
  },
  {
   "cell_type": "code",
   "execution_count": null,
   "metadata": {},
   "outputs": [],
   "source": [
    "X_train = pd.read_pickle('../data/X_train.pkl')\n",
    "X_test = pd.read_pickle('../data/X_test.pkl')\n",
    "y_train = pd.read_pickle('../data/y_train.pkl')\n",
    "y_test = pd.read_pickle('../data/y_test.pkl')"
   ]
  },
  {
   "cell_type": "markdown",
   "metadata": {},
   "source": [
    "# Setting up my Pipeline\n",
    "The tfidf vec is breaking the words into single tokens and bigrams."
   ]
  },
  {
   "cell_type": "code",
   "execution_count": 10,
   "metadata": {},
   "outputs": [],
   "source": [
    "pipe = Pipeline([\n",
    "    ('tfidf', TfidfVectorizer(stop_words='english',ngram_range=(1,2))),\n",
    "    ('ada',AdaBoostClassifier()),\n",
    "    \n",
    "])\n"
   ]
  },
  {
   "cell_type": "markdown",
   "metadata": {},
   "source": [
    "# Setting up my param grid"
   ]
  },
  {
   "cell_type": "code",
   "execution_count": 11,
   "metadata": {},
   "outputs": [],
   "source": [
    "param_grid =  {\n",
    "    'tfidf__min_df': np.arange(1,4,2),\n",
    "    'tfidf__max_df': [.95, .98, 1.0],\n",
    "    'ada__n_estimators':[10,20,30,60,70,80]\n",
    "    \n",
    "}"
   ]
  },
  {
   "cell_type": "code",
   "execution_count": 12,
   "metadata": {},
   "outputs": [],
   "source": [
    "gs = GridSearchCV(pipe, param_grid=param_grid,verbose=1)"
   ]
  },
  {
   "cell_type": "code",
   "execution_count": 13,
   "metadata": {},
   "outputs": [
    {
     "name": "stdout",
     "output_type": "stream",
     "text": [
      "Fitting 3 folds for each of 36 candidates, totalling 108 fits\n"
     ]
    },
    {
     "name": "stderr",
     "output_type": "stream",
     "text": [
      "[Parallel(n_jobs=1)]: Done 108 out of 108 | elapsed: 139.8min finished\n"
     ]
    },
    {
     "data": {
      "text/plain": [
       "GridSearchCV(cv=None, error_score='raise',\n",
       "       estimator=Pipeline(memory=None,\n",
       "     steps=[('tfidf', TfidfVectorizer(analyzer='word', binary=False, decode_error='strict',\n",
       "        dtype=<class 'numpy.int64'>, encoding='utf-8', input='content',\n",
       "        lowercase=True, max_df=1.0, max_features=None, min_df=1,\n",
       "        ngram_range=(1, 2), norm='l2', preprocessor=None, smooth_idf=True,\n",
       " ...m='SAMME.R', base_estimator=None,\n",
       "          learning_rate=1.0, n_estimators=50, random_state=None))]),\n",
       "       fit_params={}, iid=True, n_jobs=1,\n",
       "       param_grid={'tfidf__min_df': array([1, 3]), 'tfidf__max_df': [0.95, 0.98, 1.0], 'ada__n_estimators': [10, 20, 30, 60, 70, 80]},\n",
       "       pre_dispatch='2*n_jobs', refit=True, scoring=None, verbose=1)"
      ]
     },
     "execution_count": 13,
     "metadata": {},
     "output_type": "execute_result"
    }
   ],
   "source": [
    "gs.fit(X_train,y_train)"
   ]
  },
  {
   "cell_type": "code",
   "execution_count": 2,
   "metadata": {},
   "outputs": [],
   "source": [
    "gs.score(X_train,y_train)"
   ]
  },
  {
   "cell_type": "code",
   "execution_count": 15,
   "metadata": {},
   "outputs": [
    {
     "data": {
      "text/plain": [
       "0.6425261982252393"
      ]
     },
     "execution_count": 15,
     "metadata": {},
     "output_type": "execute_result"
    }
   ],
   "source": [
    "gs.score(X_test,y_test)"
   ]
  },
  {
   "cell_type": "code",
   "execution_count": 16,
   "metadata": {},
   "outputs": [
    {
     "data": {
      "text/plain": [
       "(114607,)"
      ]
     },
     "execution_count": 16,
     "metadata": {},
     "output_type": "execute_result"
    }
   ],
   "source": [
    "X_test.shape"
   ]
  },
  {
   "cell_type": "code",
   "execution_count": 24,
   "metadata": {},
   "outputs": [
    {
     "data": {
      "text/plain": [
       "Libertarian            0.527031\n",
       "LateStageCapitalism    0.472969\n",
       "Name: subreddit, dtype: float64"
      ]
     },
     "execution_count": 24,
     "metadata": {},
     "output_type": "execute_result"
    }
   ],
   "source": [
    "combined['subreddit'].value_counts()/combined.shape[0]"
   ]
  },
  {
   "cell_type": "code",
   "execution_count": 18,
   "metadata": {},
   "outputs": [],
   "source": [
    "pred_df = pd.DataFrame(gs.predict_proba(X_test))"
   ]
  },
  {
   "cell_type": "code",
   "execution_count": 19,
   "metadata": {},
   "outputs": [
    {
     "data": {
      "text/html": [
       "<div>\n",
       "<style scoped>\n",
       "    .dataframe tbody tr th:only-of-type {\n",
       "        vertical-align: middle;\n",
       "    }\n",
       "\n",
       "    .dataframe tbody tr th {\n",
       "        vertical-align: top;\n",
       "    }\n",
       "\n",
       "    .dataframe thead th {\n",
       "        text-align: right;\n",
       "    }\n",
       "</style>\n",
       "<table border=\"1\" class=\"dataframe\">\n",
       "  <thead>\n",
       "    <tr style=\"text-align: right;\">\n",
       "      <th></th>\n",
       "      <th>0</th>\n",
       "      <th>1</th>\n",
       "    </tr>\n",
       "  </thead>\n",
       "  <tbody>\n",
       "    <tr>\n",
       "      <th>726</th>\n",
       "      <td>0.387035</td>\n",
       "      <td>0.612965</td>\n",
       "    </tr>\n",
       "    <tr>\n",
       "      <th>1506</th>\n",
       "      <td>0.389576</td>\n",
       "      <td>0.610424</td>\n",
       "    </tr>\n",
       "    <tr>\n",
       "      <th>1890</th>\n",
       "      <td>0.389576</td>\n",
       "      <td>0.610424</td>\n",
       "    </tr>\n",
       "    <tr>\n",
       "      <th>2085</th>\n",
       "      <td>0.387265</td>\n",
       "      <td>0.612735</td>\n",
       "    </tr>\n",
       "    <tr>\n",
       "      <th>3765</th>\n",
       "      <td>0.376598</td>\n",
       "      <td>0.623402</td>\n",
       "    </tr>\n",
       "    <tr>\n",
       "      <th>4636</th>\n",
       "      <td>0.391835</td>\n",
       "      <td>0.608165</td>\n",
       "    </tr>\n",
       "    <tr>\n",
       "      <th>5158</th>\n",
       "      <td>0.394652</td>\n",
       "      <td>0.605348</td>\n",
       "    </tr>\n",
       "    <tr>\n",
       "      <th>5831</th>\n",
       "      <td>0.391785</td>\n",
       "      <td>0.608215</td>\n",
       "    </tr>\n",
       "    <tr>\n",
       "      <th>5845</th>\n",
       "      <td>0.389576</td>\n",
       "      <td>0.610424</td>\n",
       "    </tr>\n",
       "    <tr>\n",
       "      <th>6933</th>\n",
       "      <td>0.389576</td>\n",
       "      <td>0.610424</td>\n",
       "    </tr>\n",
       "    <tr>\n",
       "      <th>7111</th>\n",
       "      <td>0.389576</td>\n",
       "      <td>0.610424</td>\n",
       "    </tr>\n",
       "    <tr>\n",
       "      <th>7408</th>\n",
       "      <td>0.389576</td>\n",
       "      <td>0.610424</td>\n",
       "    </tr>\n",
       "    <tr>\n",
       "      <th>8356</th>\n",
       "      <td>0.389576</td>\n",
       "      <td>0.610424</td>\n",
       "    </tr>\n",
       "    <tr>\n",
       "      <th>9109</th>\n",
       "      <td>0.383495</td>\n",
       "      <td>0.616505</td>\n",
       "    </tr>\n",
       "    <tr>\n",
       "      <th>10517</th>\n",
       "      <td>0.389576</td>\n",
       "      <td>0.610424</td>\n",
       "    </tr>\n",
       "    <tr>\n",
       "      <th>12623</th>\n",
       "      <td>0.379239</td>\n",
       "      <td>0.620761</td>\n",
       "    </tr>\n",
       "    <tr>\n",
       "      <th>12936</th>\n",
       "      <td>0.391140</td>\n",
       "      <td>0.608860</td>\n",
       "    </tr>\n",
       "    <tr>\n",
       "      <th>14096</th>\n",
       "      <td>0.387161</td>\n",
       "      <td>0.612839</td>\n",
       "    </tr>\n",
       "    <tr>\n",
       "      <th>14632</th>\n",
       "      <td>0.391633</td>\n",
       "      <td>0.608367</td>\n",
       "    </tr>\n",
       "    <tr>\n",
       "      <th>15302</th>\n",
       "      <td>0.388447</td>\n",
       "      <td>0.611553</td>\n",
       "    </tr>\n",
       "    <tr>\n",
       "      <th>15322</th>\n",
       "      <td>0.385585</td>\n",
       "      <td>0.614415</td>\n",
       "    </tr>\n",
       "    <tr>\n",
       "      <th>15559</th>\n",
       "      <td>0.380243</td>\n",
       "      <td>0.619757</td>\n",
       "    </tr>\n",
       "    <tr>\n",
       "      <th>15750</th>\n",
       "      <td>0.391140</td>\n",
       "      <td>0.608860</td>\n",
       "    </tr>\n",
       "    <tr>\n",
       "      <th>15817</th>\n",
       "      <td>0.391372</td>\n",
       "      <td>0.608628</td>\n",
       "    </tr>\n",
       "    <tr>\n",
       "      <th>17532</th>\n",
       "      <td>0.391140</td>\n",
       "      <td>0.608860</td>\n",
       "    </tr>\n",
       "    <tr>\n",
       "      <th>19694</th>\n",
       "      <td>0.386551</td>\n",
       "      <td>0.613449</td>\n",
       "    </tr>\n",
       "    <tr>\n",
       "      <th>19849</th>\n",
       "      <td>0.389576</td>\n",
       "      <td>0.610424</td>\n",
       "    </tr>\n",
       "    <tr>\n",
       "      <th>20467</th>\n",
       "      <td>0.389576</td>\n",
       "      <td>0.610424</td>\n",
       "    </tr>\n",
       "    <tr>\n",
       "      <th>21675</th>\n",
       "      <td>0.391807</td>\n",
       "      <td>0.608193</td>\n",
       "    </tr>\n",
       "    <tr>\n",
       "      <th>22742</th>\n",
       "      <td>0.389576</td>\n",
       "      <td>0.610424</td>\n",
       "    </tr>\n",
       "    <tr>\n",
       "      <th>...</th>\n",
       "      <td>...</td>\n",
       "      <td>...</td>\n",
       "    </tr>\n",
       "    <tr>\n",
       "      <th>96700</th>\n",
       "      <td>0.382045</td>\n",
       "      <td>0.617955</td>\n",
       "    </tr>\n",
       "    <tr>\n",
       "      <th>97182</th>\n",
       "      <td>0.391140</td>\n",
       "      <td>0.608860</td>\n",
       "    </tr>\n",
       "    <tr>\n",
       "      <th>97325</th>\n",
       "      <td>0.382313</td>\n",
       "      <td>0.617687</td>\n",
       "    </tr>\n",
       "    <tr>\n",
       "      <th>97522</th>\n",
       "      <td>0.381811</td>\n",
       "      <td>0.618189</td>\n",
       "    </tr>\n",
       "    <tr>\n",
       "      <th>98095</th>\n",
       "      <td>0.384250</td>\n",
       "      <td>0.615750</td>\n",
       "    </tr>\n",
       "    <tr>\n",
       "      <th>98702</th>\n",
       "      <td>0.389576</td>\n",
       "      <td>0.610424</td>\n",
       "    </tr>\n",
       "    <tr>\n",
       "      <th>99250</th>\n",
       "      <td>0.389576</td>\n",
       "      <td>0.610424</td>\n",
       "    </tr>\n",
       "    <tr>\n",
       "      <th>99882</th>\n",
       "      <td>0.351623</td>\n",
       "      <td>0.648377</td>\n",
       "    </tr>\n",
       "    <tr>\n",
       "      <th>100883</th>\n",
       "      <td>0.388722</td>\n",
       "      <td>0.611278</td>\n",
       "    </tr>\n",
       "    <tr>\n",
       "      <th>100913</th>\n",
       "      <td>0.389576</td>\n",
       "      <td>0.610424</td>\n",
       "    </tr>\n",
       "    <tr>\n",
       "      <th>101563</th>\n",
       "      <td>0.386156</td>\n",
       "      <td>0.613844</td>\n",
       "    </tr>\n",
       "    <tr>\n",
       "      <th>102107</th>\n",
       "      <td>0.387996</td>\n",
       "      <td>0.612004</td>\n",
       "    </tr>\n",
       "    <tr>\n",
       "      <th>102896</th>\n",
       "      <td>0.384601</td>\n",
       "      <td>0.615399</td>\n",
       "    </tr>\n",
       "    <tr>\n",
       "      <th>103035</th>\n",
       "      <td>0.386156</td>\n",
       "      <td>0.613844</td>\n",
       "    </tr>\n",
       "    <tr>\n",
       "      <th>106045</th>\n",
       "      <td>0.384234</td>\n",
       "      <td>0.615766</td>\n",
       "    </tr>\n",
       "    <tr>\n",
       "      <th>106078</th>\n",
       "      <td>0.389576</td>\n",
       "      <td>0.610424</td>\n",
       "    </tr>\n",
       "    <tr>\n",
       "      <th>106478</th>\n",
       "      <td>0.389576</td>\n",
       "      <td>0.610424</td>\n",
       "    </tr>\n",
       "    <tr>\n",
       "      <th>107583</th>\n",
       "      <td>0.375840</td>\n",
       "      <td>0.624160</td>\n",
       "    </tr>\n",
       "    <tr>\n",
       "      <th>108814</th>\n",
       "      <td>0.383949</td>\n",
       "      <td>0.616051</td>\n",
       "    </tr>\n",
       "    <tr>\n",
       "      <th>108858</th>\n",
       "      <td>0.389576</td>\n",
       "      <td>0.610424</td>\n",
       "    </tr>\n",
       "    <tr>\n",
       "      <th>108928</th>\n",
       "      <td>0.387886</td>\n",
       "      <td>0.612114</td>\n",
       "    </tr>\n",
       "    <tr>\n",
       "      <th>109923</th>\n",
       "      <td>0.389576</td>\n",
       "      <td>0.610424</td>\n",
       "    </tr>\n",
       "    <tr>\n",
       "      <th>112525</th>\n",
       "      <td>0.384630</td>\n",
       "      <td>0.615370</td>\n",
       "    </tr>\n",
       "    <tr>\n",
       "      <th>112891</th>\n",
       "      <td>0.391140</td>\n",
       "      <td>0.608860</td>\n",
       "    </tr>\n",
       "    <tr>\n",
       "      <th>113371</th>\n",
       "      <td>0.389576</td>\n",
       "      <td>0.610424</td>\n",
       "    </tr>\n",
       "    <tr>\n",
       "      <th>113576</th>\n",
       "      <td>0.385402</td>\n",
       "      <td>0.614598</td>\n",
       "    </tr>\n",
       "    <tr>\n",
       "      <th>113890</th>\n",
       "      <td>0.389576</td>\n",
       "      <td>0.610424</td>\n",
       "    </tr>\n",
       "    <tr>\n",
       "      <th>114094</th>\n",
       "      <td>0.389576</td>\n",
       "      <td>0.610424</td>\n",
       "    </tr>\n",
       "    <tr>\n",
       "      <th>114317</th>\n",
       "      <td>0.389576</td>\n",
       "      <td>0.610424</td>\n",
       "    </tr>\n",
       "    <tr>\n",
       "      <th>114531</th>\n",
       "      <td>0.389576</td>\n",
       "      <td>0.610424</td>\n",
       "    </tr>\n",
       "  </tbody>\n",
       "</table>\n",
       "<p>139 rows × 2 columns</p>\n",
       "</div>"
      ],
      "text/plain": [
       "               0         1\n",
       "726     0.387035  0.612965\n",
       "1506    0.389576  0.610424\n",
       "1890    0.389576  0.610424\n",
       "2085    0.387265  0.612735\n",
       "3765    0.376598  0.623402\n",
       "4636    0.391835  0.608165\n",
       "5158    0.394652  0.605348\n",
       "5831    0.391785  0.608215\n",
       "5845    0.389576  0.610424\n",
       "6933    0.389576  0.610424\n",
       "7111    0.389576  0.610424\n",
       "7408    0.389576  0.610424\n",
       "8356    0.389576  0.610424\n",
       "9109    0.383495  0.616505\n",
       "10517   0.389576  0.610424\n",
       "12623   0.379239  0.620761\n",
       "12936   0.391140  0.608860\n",
       "14096   0.387161  0.612839\n",
       "14632   0.391633  0.608367\n",
       "15302   0.388447  0.611553\n",
       "15322   0.385585  0.614415\n",
       "15559   0.380243  0.619757\n",
       "15750   0.391140  0.608860\n",
       "15817   0.391372  0.608628\n",
       "17532   0.391140  0.608860\n",
       "19694   0.386551  0.613449\n",
       "19849   0.389576  0.610424\n",
       "20467   0.389576  0.610424\n",
       "21675   0.391807  0.608193\n",
       "22742   0.389576  0.610424\n",
       "...          ...       ...\n",
       "96700   0.382045  0.617955\n",
       "97182   0.391140  0.608860\n",
       "97325   0.382313  0.617687\n",
       "97522   0.381811  0.618189\n",
       "98095   0.384250  0.615750\n",
       "98702   0.389576  0.610424\n",
       "99250   0.389576  0.610424\n",
       "99882   0.351623  0.648377\n",
       "100883  0.388722  0.611278\n",
       "100913  0.389576  0.610424\n",
       "101563  0.386156  0.613844\n",
       "102107  0.387996  0.612004\n",
       "102896  0.384601  0.615399\n",
       "103035  0.386156  0.613844\n",
       "106045  0.384234  0.615766\n",
       "106078  0.389576  0.610424\n",
       "106478  0.389576  0.610424\n",
       "107583  0.375840  0.624160\n",
       "108814  0.383949  0.616051\n",
       "108858  0.389576  0.610424\n",
       "108928  0.387886  0.612114\n",
       "109923  0.389576  0.610424\n",
       "112525  0.384630  0.615370\n",
       "112891  0.391140  0.608860\n",
       "113371  0.389576  0.610424\n",
       "113576  0.385402  0.614598\n",
       "113890  0.389576  0.610424\n",
       "114094  0.389576  0.610424\n",
       "114317  0.389576  0.610424\n",
       "114531  0.389576  0.610424\n",
       "\n",
       "[139 rows x 2 columns]"
      ]
     },
     "execution_count": 19,
     "metadata": {},
     "output_type": "execute_result"
    }
   ],
   "source": [
    "pred_df[(pred_df[1]<.45) | (pred_df[1]>.55)]"
   ]
  },
  {
   "cell_type": "code",
   "execution_count": 20,
   "metadata": {},
   "outputs": [
    {
     "data": {
      "text/plain": [
       "0.6412715863791724"
      ]
     },
     "execution_count": 20,
     "metadata": {},
     "output_type": "execute_result"
    }
   ],
   "source": [
    "gs.best_score_"
   ]
  },
  {
   "cell_type": "code",
   "execution_count": 21,
   "metadata": {},
   "outputs": [
    {
     "data": {
      "text/plain": [
       "Pipeline(memory=None,\n",
       "     steps=[('tfidf', TfidfVectorizer(analyzer='word', binary=False, decode_error='strict',\n",
       "        dtype=<class 'numpy.int64'>, encoding='utf-8', input='content',\n",
       "        lowercase=True, max_df=0.95, max_features=None, min_df=1,\n",
       "        ngram_range=(1, 2), norm='l2', preprocessor=None, smooth_idf=True,\n",
       "...m='SAMME.R', base_estimator=None,\n",
       "          learning_rate=1.0, n_estimators=80, random_state=None))])"
      ]
     },
     "execution_count": 21,
     "metadata": {},
     "output_type": "execute_result"
    }
   ],
   "source": [
    "gs.best_estimator_"
   ]
  },
  {
   "cell_type": "code",
   "execution_count": 30,
   "metadata": {},
   "outputs": [
    {
     "data": {
      "text/plain": [
       "382021"
      ]
     },
     "execution_count": 30,
     "metadata": {},
     "output_type": "execute_result"
    }
   ],
   "source": []
  },
  {
   "cell_type": "code",
   "execution_count": 22,
   "metadata": {},
   "outputs": [
    {
     "data": {
      "text/plain": [
       "array(['Libertarian'], dtype='<U19')"
      ]
     },
     "execution_count": 22,
     "metadata": {},
     "output_type": "execute_result"
    }
   ],
   "source": [
    "gs.predict([\"Worth noting the evolution of Trump's Syria policy is very similar to what happened with Afghanistan. In both places, Trump instinctively wanted to wind down U.S. military presence -- foreign policy aides convinced him not only to maintain status quo, but expand the mission.\"])"
   ]
  },
  {
   "cell_type": "code",
   "execution_count": 35,
   "metadata": {},
   "outputs": [],
   "source": [
    "with open('../assets/ada_boost.pkl','wb+') as f:\n",
    "    pickle.dump(gs,f)"
   ]
  },
  {
   "cell_type": "code",
   "execution_count": null,
   "metadata": {},
   "outputs": [],
   "source": []
  }
 ],
 "metadata": {
  "kernelspec": {
   "display_name": "Python 3",
   "language": "python",
   "name": "python3"
  },
  "language_info": {
   "codemirror_mode": {
    "name": "ipython",
    "version": 3
   },
   "file_extension": ".py",
   "mimetype": "text/x-python",
   "name": "python",
   "nbconvert_exporter": "python",
   "pygments_lexer": "ipython3",
   "version": "3.6.5"
  }
 },
 "nbformat": 4,
 "nbformat_minor": 2
}
