{
 "cells": [
  {
   "cell_type": "markdown",
   "metadata": {},
   "source": [
    "# Preprocessing \n",
    "I handeled all of the text preprocessing in this notebook. I opted not to \n",
    "lemmatize or stem my text. I wanted to run models first. As it turns out it turned out not to make a significant difference in my model's accuracy.\n",
    "After fitting my Naive Bayes Model I noticed some some overfitting. I attributed this to some noise like moderator bots posting text with the subreddit names in it and the same author posting the same thing multiple times. I decided to exclude those things and a few more like links and certain random characters."
   ]
  },
  {
   "cell_type": "code",
   "execution_count": 1,
   "metadata": {},
   "outputs": [],
   "source": [
    "import pandas as pd\n",
    "import numpy as np\n",
    "from sklearn.feature_extraction.text import TfidfVectorizer\n",
    "from sklearn.model_selection import train_test_split\n",
    "import pickle\n",
    "import re\n",
    "import csv"
   ]
  },
  {
   "cell_type": "markdown",
   "metadata": {},
   "source": [
    "# Preparing data for modeling\n",
    "Cleaning data, dropping the sub names, links and certain characters."
   ]
  },
  {
   "cell_type": "code",
   "execution_count": 2,
   "metadata": {},
   "outputs": [],
   "source": [
    "lib = pd.read_json('./data/lib_1.json')\n",
    "lsc = pd.read_json('./data/lsc_1.json')\n",
    "\n",
    "combined = pd.concat([lib,lsc])\n",
    "\n",
    "\n",
    "combined.body = combined.body.map(lambda x: re.sub('/r/LateStageCapitalism', '', x))\n",
    "combined.body = combined.body.map(lambda x: re.sub('/r/Libertarian', '', x))\n",
    "combined.body = combined.body.map(lambda x: re.sub('http[^\\s]*', '', x))\n",
    "combined.body = combined.body.map(lambda x: re.sub('[\\d]', '', x))\n",
    "combined.body = combined.body.map(lambda x: re.sub(\"gt\", '', x))\n",
    "combined.drop_duplicates(['author', 'body'],inplace=True)\n",
    "combined['body'] = combined['body'].str.lower()\n",
    "combined['body']= combined['body'].replace(r'\\n',' ', regex=True) \n"
   ]
  },
  {
   "cell_type": "code",
   "execution_count": 3,
   "metadata": {},
   "outputs": [],
   "source": [
    "X = combined['body']\n",
    "y = list(combined['subreddit'])"
   ]
  },
  {
   "cell_type": "markdown",
   "metadata": {},
   "source": [
    "# Train Test Splitting "
   ]
  },
  {
   "cell_type": "code",
   "execution_count": 4,
   "metadata": {},
   "outputs": [],
   "source": [
    "X_train, X_test, y_train, y_test = train_test_split(X,y,test_size = .33,random_state=42)"
   ]
  },
  {
   "cell_type": "markdown",
   "metadata": {},
   "source": [
    "# Pickling and exporting variables\n"
   ]
  },
  {
   "cell_type": "code",
   "execution_count": 19,
   "metadata": {},
   "outputs": [],
   "source": [
    "pd.to_pickle(X_test,'./data/X_test.pkl')"
   ]
  },
  {
   "cell_type": "code",
   "execution_count": 20,
   "metadata": {},
   "outputs": [],
   "source": [
    "pd.to_pickle(X_train,'./data/X_train.pkl')"
   ]
  },
  {
   "cell_type": "code",
   "execution_count": 21,
   "metadata": {},
   "outputs": [],
   "source": [
    "pd.to_pickle(y_test,'./data/y_test.pkl')"
   ]
  },
  {
   "cell_type": "code",
   "execution_count": 22,
   "metadata": {},
   "outputs": [],
   "source": [
    "pd.to_pickle(y_train,'./data/y_train.pkl')"
   ]
  },
  {
   "cell_type": "code",
   "execution_count": 5,
   "metadata": {},
   "outputs": [],
   "source": [
    "pd.to_pickle(combined,'./data/combined.pkl')"
   ]
  },
  {
   "cell_type": "code",
   "execution_count": null,
   "metadata": {},
   "outputs": [],
   "source": []
  }
 ],
 "metadata": {
  "kernelspec": {
   "display_name": "Python 3",
   "language": "python",
   "name": "python3"
  },
  "language_info": {
   "codemirror_mode": {
    "name": "ipython",
    "version": 3
   },
   "file_extension": ".py",
   "mimetype": "text/x-python",
   "name": "python",
   "nbconvert_exporter": "python",
   "pygments_lexer": "ipython3",
   "version": "3.6.5"
  }
 },
 "nbformat": 4,
 "nbformat_minor": 2
}
