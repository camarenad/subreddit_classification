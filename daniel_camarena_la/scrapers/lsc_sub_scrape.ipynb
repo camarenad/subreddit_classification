{
 "cells": [
  {
   "cell_type": "code",
   "execution_count": 1,
   "metadata": {},
   "outputs": [],
   "source": [
    "import pandas as pd\n",
    "import requests\n",
    "import time\n",
    "import json"
   ]
  },
  {
   "cell_type": "code",
   "execution_count": 2,
   "metadata": {},
   "outputs": [],
   "source": [
    "url = 'https://api.pushshift.io/reddit/submission/search?subreddit=LateStageCapitalism&sort=desc'"
   ]
  },
  {
   "cell_type": "code",
   "execution_count": 3,
   "metadata": {},
   "outputs": [],
   "source": [
    "res = requests.get(url,headers={'User-agent': 'greppy 1.0'})"
   ]
  },
  {
   "cell_type": "code",
   "execution_count": 4,
   "metadata": {},
   "outputs": [
    {
     "data": {
      "text/plain": [
       "200"
      ]
     },
     "execution_count": 4,
     "metadata": {},
     "output_type": "execute_result"
    }
   ],
   "source": [
    "res.status_code\n"
   ]
  },
  {
   "cell_type": "code",
   "execution_count": 5,
   "metadata": {},
   "outputs": [],
   "source": [
    "reddit_dict = res.json()"
   ]
  },
  {
   "cell_type": "code",
   "execution_count": 8,
   "metadata": {},
   "outputs": [
    {
     "name": "stdout",
     "output_type": "stream",
     "text": [
      "https://api.pushshift.io/reddit/submission/search?subreddit=LateStageCapitalism&sort=desc\n",
      "https://api.pushshift.io/reddit/submission/search?subreddit=LateStageCapitalism&sort=desc&before=1536317547&size=25.json\n",
      "https://api.pushshift.io/reddit/submission/search?subreddit=LateStageCapitalism&sort=desc&before=1536290720&size=25.json\n",
      "https://api.pushshift.io/reddit/submission/search?subreddit=LateStageCapitalism&sort=desc&before=1536269893&size=25.json\n",
      "https://api.pushshift.io/reddit/submission/search?subreddit=LateStageCapitalism&sort=desc&before=1536256642&size=25.json\n",
      "https://api.pushshift.io/reddit/submission/search?subreddit=LateStageCapitalism&sort=desc&before=1536223609&size=25.json\n",
      "https://api.pushshift.io/reddit/submission/search?subreddit=LateStageCapitalism&sort=desc&before=1536193234&size=25.json\n",
      "https://api.pushshift.io/reddit/submission/search?subreddit=LateStageCapitalism&sort=desc&before=1536176336&size=25.json\n",
      "https://api.pushshift.io/reddit/submission/search?subreddit=LateStageCapitalism&sort=desc&before=1536162133&size=25.json\n",
      "https://api.pushshift.io/reddit/submission/search?subreddit=LateStageCapitalism&sort=desc&before=1536136115&size=25.json\n",
      "https://api.pushshift.io/reddit/submission/search?subreddit=LateStageCapitalism&sort=desc&before=1536115543&size=25.json\n",
      "https://api.pushshift.io/reddit/submission/search?subreddit=LateStageCapitalism&sort=desc&before=1536103524&size=25.json\n",
      "https://api.pushshift.io/reddit/submission/search?subreddit=LateStageCapitalism&sort=desc&before=1536092547&size=25.json\n",
      "https://api.pushshift.io/reddit/submission/search?subreddit=LateStageCapitalism&sort=desc&before=1536080276&size=25.json\n",
      "https://api.pushshift.io/reddit/submission/search?subreddit=LateStageCapitalism&sort=desc&before=1536061987&size=25.json\n",
      "https://api.pushshift.io/reddit/submission/search?subreddit=LateStageCapitalism&sort=desc&before=1536028606&size=25.json\n",
      "https://api.pushshift.io/reddit/submission/search?subreddit=LateStageCapitalism&sort=desc&before=1536011872&size=25.json\n",
      "https://api.pushshift.io/reddit/submission/search?subreddit=LateStageCapitalism&sort=desc&before=1535997576&size=25.json\n",
      "https://api.pushshift.io/reddit/submission/search?subreddit=LateStageCapitalism&sort=desc&before=1535987535&size=25.json\n",
      "https://api.pushshift.io/reddit/submission/search?subreddit=LateStageCapitalism&sort=desc&before=1535950232&size=25.json\n",
      "https://api.pushshift.io/reddit/submission/search?subreddit=LateStageCapitalism&sort=desc&before=1535924769&size=25.json\n",
      "https://api.pushshift.io/reddit/submission/search?subreddit=LateStageCapitalism&sort=desc&before=1535906141&size=25.json\n",
      "https://api.pushshift.io/reddit/submission/search?subreddit=LateStageCapitalism&sort=desc&before=1535885609&size=25.json\n",
      "https://api.pushshift.io/reddit/submission/search?subreddit=LateStageCapitalism&sort=desc&before=1535847855&size=25.json\n",
      "https://api.pushshift.io/reddit/submission/search?subreddit=LateStageCapitalism&sort=desc&before=1535821269&size=25.json\n",
      "https://api.pushshift.io/reddit/submission/search?subreddit=LateStageCapitalism&sort=desc&before=1535794846&size=25.json\n",
      "https://api.pushshift.io/reddit/submission/search?subreddit=LateStageCapitalism&sort=desc&before=1535768711&size=25.json\n",
      "https://api.pushshift.io/reddit/submission/search?subreddit=LateStageCapitalism&sort=desc&before=1535751224&size=25.json\n",
      "https://api.pushshift.io/reddit/submission/search?subreddit=LateStageCapitalism&sort=desc&before=1535735015&size=25.json\n",
      "https://api.pushshift.io/reddit/submission/search?subreddit=LateStageCapitalism&sort=desc&before=1535720062&size=25.json\n",
      "https://api.pushshift.io/reddit/submission/search?subreddit=LateStageCapitalism&sort=desc&before=1535687165&size=25.json\n",
      "https://api.pushshift.io/reddit/submission/search?subreddit=LateStageCapitalism&sort=desc&before=1535663955&size=25.json\n",
      "https://api.pushshift.io/reddit/submission/search?subreddit=LateStageCapitalism&sort=desc&before=1535645567&size=25.json\n",
      "https://api.pushshift.io/reddit/submission/search?subreddit=LateStageCapitalism&sort=desc&before=1535627875&size=25.json\n",
      "https://api.pushshift.io/reddit/submission/search?subreddit=LateStageCapitalism&sort=desc&before=1535598866&size=25.json\n",
      "https://api.pushshift.io/reddit/submission/search?subreddit=LateStageCapitalism&sort=desc&before=1535585458&size=25.json\n",
      "https://api.pushshift.io/reddit/submission/search?subreddit=LateStageCapitalism&sort=desc&before=1535570013&size=25.json\n",
      "https://api.pushshift.io/reddit/submission/search?subreddit=LateStageCapitalism&sort=desc&before=1535561163&size=25.json\n",
      "https://api.pushshift.io/reddit/submission/search?subreddit=LateStageCapitalism&sort=desc&before=1535547221&size=25.json\n",
      "https://api.pushshift.io/reddit/submission/search?subreddit=LateStageCapitalism&sort=desc&before=1535523102&size=25.json\n",
      "https://api.pushshift.io/reddit/submission/search?subreddit=LateStageCapitalism&sort=desc&before=1535503079&size=25.json\n",
      "https://api.pushshift.io/reddit/submission/search?subreddit=LateStageCapitalism&sort=desc&before=1535490690&size=25.json\n",
      "https://api.pushshift.io/reddit/submission/search?subreddit=LateStageCapitalism&sort=desc&before=1535476523&size=25.json\n",
      "https://api.pushshift.io/reddit/submission/search?subreddit=LateStageCapitalism&sort=desc&before=1535463315&size=25.json\n",
      "https://api.pushshift.io/reddit/submission/search?subreddit=LateStageCapitalism&sort=desc&before=1535425917&size=25.json\n",
      "https://api.pushshift.io/reddit/submission/search?subreddit=LateStageCapitalism&sort=desc&before=1535405459&size=25.json\n",
      "https://api.pushshift.io/reddit/submission/search?subreddit=LateStageCapitalism&sort=desc&before=1535397007&size=25.json\n",
      "https://api.pushshift.io/reddit/submission/search?subreddit=LateStageCapitalism&sort=desc&before=1535375552&size=25.json\n",
      "https://api.pushshift.io/reddit/submission/search?subreddit=LateStageCapitalism&sort=desc&before=1535341761&size=25.json\n",
      "https://api.pushshift.io/reddit/submission/search?subreddit=LateStageCapitalism&sort=desc&before=1535322522&size=25.json\n",
      "https://api.pushshift.io/reddit/submission/search?subreddit=LateStageCapitalism&sort=desc&before=1535307630&size=25.json\n",
      "https://api.pushshift.io/reddit/submission/search?subreddit=LateStageCapitalism&sort=desc&before=1535286438&size=25.json\n",
      "https://api.pushshift.io/reddit/submission/search?subreddit=LateStageCapitalism&sort=desc&before=1535265088&size=25.json\n",
      "https://api.pushshift.io/reddit/submission/search?subreddit=LateStageCapitalism&sort=desc&before=1535249104&size=25.json\n",
      "https://api.pushshift.io/reddit/submission/search?subreddit=LateStageCapitalism&sort=desc&before=1535235300&size=25.json\n",
      "https://api.pushshift.io/reddit/submission/search?subreddit=LateStageCapitalism&sort=desc&before=1535216648&size=25.json\n",
      "https://api.pushshift.io/reddit/submission/search?subreddit=LateStageCapitalism&sort=desc&before=1535177576&size=25.json\n",
      "https://api.pushshift.io/reddit/submission/search?subreddit=LateStageCapitalism&sort=desc&before=1535154813&size=25.json\n",
      "https://api.pushshift.io/reddit/submission/search?subreddit=LateStageCapitalism&sort=desc&before=1535145656&size=25.json\n",
      "https://api.pushshift.io/reddit/submission/search?subreddit=LateStageCapitalism&sort=desc&before=1535129169&size=25.json\n",
      "https://api.pushshift.io/reddit/submission/search?subreddit=LateStageCapitalism&sort=desc&before=1535113310&size=25.json\n",
      "https://api.pushshift.io/reddit/submission/search?subreddit=LateStageCapitalism&sort=desc&before=1535079981&size=25.json\n",
      "https://api.pushshift.io/reddit/submission/search?subreddit=LateStageCapitalism&sort=desc&before=1535069159&size=25.json\n",
      "https://api.pushshift.io/reddit/submission/search?subreddit=LateStageCapitalism&sort=desc&before=1535055790&size=25.json\n",
      "https://api.pushshift.io/reddit/submission/search?subreddit=LateStageCapitalism&sort=desc&before=1535044409&size=25.json\n",
      "https://api.pushshift.io/reddit/submission/search?subreddit=LateStageCapitalism&sort=desc&before=1535028335&size=25.json\n",
      "https://api.pushshift.io/reddit/submission/search?subreddit=LateStageCapitalism&sort=desc&before=1534987823&size=25.json\n",
      "https://api.pushshift.io/reddit/submission/search?subreddit=LateStageCapitalism&sort=desc&before=1534972672&size=25.json\n"
     ]
    },
    {
     "name": "stdout",
     "output_type": "stream",
     "text": [
      "https://api.pushshift.io/reddit/submission/search?subreddit=LateStageCapitalism&sort=desc&before=1534961788&size=25.json\n",
      "https://api.pushshift.io/reddit/submission/search?subreddit=LateStageCapitalism&sort=desc&before=1534941802&size=25.json\n",
      "https://api.pushshift.io/reddit/submission/search?subreddit=LateStageCapitalism&sort=desc&before=1534909830&size=25.json\n",
      "https://api.pushshift.io/reddit/submission/search?subreddit=LateStageCapitalism&sort=desc&before=1534886128&size=25.json\n",
      "https://api.pushshift.io/reddit/submission/search?subreddit=LateStageCapitalism&sort=desc&before=1534875253&size=25.json\n",
      "https://api.pushshift.io/reddit/submission/search?subreddit=LateStageCapitalism&sort=desc&before=1534859254&size=25.json\n"
     ]
    },
    {
     "ename": "KeyboardInterrupt",
     "evalue": "",
     "output_type": "error",
     "traceback": [
      "\u001b[0;31m---------------------------------------------------------------------------\u001b[0m",
      "\u001b[0;31mKeyboardInterrupt\u001b[0m                         Traceback (most recent call last)",
      "\u001b[0;32m<ipython-input-8-deea87141308>\u001b[0m in \u001b[0;36m<module>\u001b[0;34m()\u001b[0m\n\u001b[1;32m     16\u001b[0m     \u001b[0mtime_stamp\u001b[0m  \u001b[0;34m=\u001b[0m \u001b[0mstr\u001b[0m\u001b[0;34m(\u001b[0m\u001b[0mposts\u001b[0m\u001b[0;34m[\u001b[0m\u001b[0;34m-\u001b[0m\u001b[0;36m1\u001b[0m\u001b[0;34m]\u001b[0m\u001b[0;34m[\u001b[0m\u001b[0;34m'created_utc'\u001b[0m\u001b[0;34m]\u001b[0m\u001b[0;34m)\u001b[0m\u001b[0;34m\u001b[0m\u001b[0m\n\u001b[1;32m     17\u001b[0m     \u001b[0mprint\u001b[0m\u001b[0;34m(\u001b[0m\u001b[0mcurrent_url\u001b[0m\u001b[0;34m)\u001b[0m\u001b[0;34m\u001b[0m\u001b[0m\n\u001b[0;32m---> 18\u001b[0;31m     \u001b[0mtime\u001b[0m\u001b[0;34m.\u001b[0m\u001b[0msleep\u001b[0m\u001b[0;34m(\u001b[0m\u001b[0;36m3\u001b[0m\u001b[0;34m)\u001b[0m\u001b[0;34m\u001b[0m\u001b[0m\n\u001b[0m",
      "\u001b[0;31mKeyboardInterrupt\u001b[0m: "
     ]
    }
   ],
   "source": [
    "current_url = None\n",
    "posts = []\n",
    "size = str(25)\n",
    "for _ in range(2500):\n",
    "    if current_url == None:\n",
    "        current_url = url\n",
    "    else:\n",
    "        current_url = url + '&before=' + str(time_stamp) + '&size='+ size+ '.json'\n",
    "        res = requests.get(current_url)\n",
    "    if res.status_code != 200:\n",
    "        print('Error',res.status_code)\n",
    "        break\n",
    "    current_dict = res.json()\n",
    "    current_posts = {k:v for (k,v) in current_dict.items()}\n",
    "    posts.extend(current_posts['data'])\n",
    "    time_stamp  = str(posts[-1]['created_utc'])\n",
    "    print(current_url)\n",
    "    time.sleep(3)\n",
    "\n"
   ]
  },
  {
   "cell_type": "code",
   "execution_count": null,
   "metadata": {},
   "outputs": [],
   "source": [
    "with open('../data/lsc_2.json','w+') as f:\n",
    "    json.dump(posts,f)"
   ]
  },
  {
   "cell_type": "code",
   "execution_count": null,
   "metadata": {},
   "outputs": [],
   "source": [
    "len(posts)"
   ]
  }
 ],
 "metadata": {
  "kernelspec": {
   "display_name": "Python 3",
   "language": "python",
   "name": "python3"
  },
  "language_info": {
   "codemirror_mode": {
    "name": "ipython",
    "version": 3
   },
   "file_extension": ".py",
   "mimetype": "text/x-python",
   "name": "python",
   "nbconvert_exporter": "python",
   "pygments_lexer": "ipython3",
   "version": "3.6.5"
  }
 },
 "nbformat": 4,
 "nbformat_minor": 2
}
