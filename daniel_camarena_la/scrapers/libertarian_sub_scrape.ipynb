{
 "cells": [
  {
   "cell_type": "code",
   "execution_count": 1,
   "metadata": {},
   "outputs": [],
   "source": [
    "import pandas as pd\n",
    "import requests\n",
    "import time\n",
    "import json"
   ]
  },
  {
   "cell_type": "code",
   "execution_count": 2,
   "metadata": {},
   "outputs": [],
   "source": [
    "url = 'https://api.pushshift.io/reddit/submission/search?subreddit=libertarian&sort=desc'"
   ]
  },
  {
   "cell_type": "code",
   "execution_count": 3,
   "metadata": {},
   "outputs": [],
   "source": [
    "res = requests.get(url,headers={'User-agent': 'For school'})"
   ]
  },
  {
   "cell_type": "code",
   "execution_count": 4,
   "metadata": {},
   "outputs": [
    {
     "data": {
      "text/plain": [
       "200"
      ]
     },
     "execution_count": 4,
     "metadata": {},
     "output_type": "execute_result"
    }
   ],
   "source": [
    "res.status_code\n"
   ]
  },
  {
   "cell_type": "code",
   "execution_count": 5,
   "metadata": {},
   "outputs": [],
   "source": [
    "reddit_dict = res.json()"
   ]
  },
  {
   "cell_type": "code",
   "execution_count": 8,
   "metadata": {},
   "outputs": [
    {
     "name": "stdout",
     "output_type": "stream",
     "text": [
      "https://api.pushshift.io/reddit/submission/search?subreddit=libertarian&sort=desc\n",
      "https://api.pushshift.io/reddit/submission/search?subreddit=libertarian&sort=desc&before=1536532492&size=25.json\n",
      "https://api.pushshift.io/reddit/submission/search?subreddit=libertarian&sort=desc&before=1536523733&size=25.json\n",
      "https://api.pushshift.io/reddit/submission/search?subreddit=libertarian&sort=desc&before=1536516921&size=25.json\n",
      "https://api.pushshift.io/reddit/submission/search?subreddit=libertarian&sort=desc&before=1536505838&size=25.json\n",
      "https://api.pushshift.io/reddit/submission/search?subreddit=libertarian&sort=desc&before=1536491967&size=25.json\n",
      "https://api.pushshift.io/reddit/submission/search?subreddit=libertarian&sort=desc&before=1536462158&size=25.json\n",
      "https://api.pushshift.io/reddit/submission/search?subreddit=libertarian&sort=desc&before=1536451402&size=25.json\n",
      "https://api.pushshift.io/reddit/submission/search?subreddit=libertarian&sort=desc&before=1536447061&size=25.json\n",
      "https://api.pushshift.io/reddit/submission/search?subreddit=libertarian&sort=desc&before=1536439573&size=25.json\n"
     ]
    }
   ],
   "source": [
    "current_url = None\n",
    "posts = []\n",
    "size = str(25)\n",
    "for _ in range(10):\n",
    "    if current_url == None:\n",
    "        current_url = url\n",
    "    else:\n",
    "        current_url = url + '&before=' + str(time_stamp) + '&size='+ size+ '.json'\n",
    "        res = requests.get(current_url)\n",
    "    if res.status_code != 200:\n",
    "        print('Error',res.status_code)\n",
    "        break\n",
    "    current_dict = res.json()\n",
    "    current_posts = {k:v for (k,v) in current_dict.items()}\n",
    "    posts.extend(current_posts['data'])\n",
    "    time_stamp  = str(posts[-1]['created_utc'])\n",
    "    print(current_url)\n",
    "    time.sleep(3)\n",
    "\n"
   ]
  },
  {
   "cell_type": "code",
   "execution_count": null,
   "metadata": {},
   "outputs": [],
   "source": [
    "with open('../assets/lib_2.json','w+') as f:\n",
    "    json.dump(posts,f)"
   ]
  },
  {
   "cell_type": "code",
   "execution_count": null,
   "metadata": {},
   "outputs": [],
   "source": [
    "current_posts['data'][-1]['created_utc']"
   ]
  },
  {
   "cell_type": "code",
   "execution_count": null,
   "metadata": {},
   "outputs": [],
   "source": [
    "len(posts)"
   ]
  },
  {
   "cell_type": "code",
   "execution_count": null,
   "metadata": {},
   "outputs": [],
   "source": [
    "type(posts)"
   ]
  },
  {
   "cell_type": "code",
   "execution_count": null,
   "metadata": {},
   "outputs": [],
   "source": []
  }
 ],
 "metadata": {
  "kernelspec": {
   "display_name": "Python 3",
   "language": "python",
   "name": "python3"
  },
  "language_info": {
   "codemirror_mode": {
    "name": "ipython",
    "version": 3
   },
   "file_extension": ".py",
   "mimetype": "text/x-python",
   "name": "python",
   "nbconvert_exporter": "python",
   "pygments_lexer": "ipython3",
   "version": "3.6.5"
  }
 },
 "nbformat": 4,
 "nbformat_minor": 2
}
